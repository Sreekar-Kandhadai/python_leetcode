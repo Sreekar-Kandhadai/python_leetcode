{
  "nbformat": 4,
  "nbformat_minor": 0,
  "metadata": {
    "colab": {
      "provenance": [],
      "authorship_tag": "ABX9TyOTnfg3ADJjR3/RfxY2w0Re",
      "include_colab_link": true
    },
    "kernelspec": {
      "name": "python3",
      "display_name": "Python 3"
    },
    "language_info": {
      "name": "python"
    }
  },
  "cells": [
    {
      "cell_type": "markdown",
      "metadata": {
        "id": "view-in-github",
        "colab_type": "text"
      },
      "source": [
        "<a href=\"https://colab.research.google.com/github/Sreekar-Kandhadai/python_leetcode/blob/main/February_daily_challenge/12_02_2025.ipynb\" target=\"_parent\"><img src=\"https://colab.research.google.com/assets/colab-badge.svg\" alt=\"Open In Colab\"/></a>"
      ]
    },
    {
      "cell_type": "code",
      "execution_count": null,
      "metadata": {
        "id": "ENfbx9bJbKnq"
      },
      "outputs": [],
      "source": [
        "You are given a 0-indexed array nums consisting of positive integers. You can choose two indices i and j, such that i != j,\n",
        " and the sum of digits of the number nums[i] is equal to that of nums[j].\n",
        "\n",
        "Return the maximum value of nums[i] + nums[j] that you can obtain over all possible indices i and j that satisfy the conditions."
      ]
    },
    {
      "cell_type": "code",
      "source": [
        "from collections import defaultdict\n",
        "class Solution:\n",
        "    def maximumSum(self, nums) -> int:\n",
        "\n",
        "        groups=defaultdict(list)\n",
        "\n",
        "        def digitSum(num):\n",
        "\n",
        "          return sum(int(digit)  for digit in str(num))\n",
        "\n",
        "        for num in nums:\n",
        "            sums=digitSum(num)\n",
        "\n",
        "            groups[sums].append(num)\n",
        "\n",
        "        max_sum=-1\n",
        "\n",
        "        for group in groups.values():\n",
        "\n",
        "            if len(group)>1:\n",
        "\n",
        "                group.sort(reverse=True)\n",
        "\n",
        "                max_sum=max(max_sum,group[0]+group[1])\n",
        "\n",
        "        return max_sum\n",
        "\n",
        "sol=Solution()\n",
        "\n",
        "nums = [18,43,36,13,7]\n",
        "\n",
        "print(sol.maximumSum(nums))"
      ],
      "metadata": {
        "colab": {
          "base_uri": "https://localhost:8080/"
        },
        "id": "gBZfBMvZbfJh",
        "outputId": "da78d81e-5100-4c01-e330-5591f19b4326"
      },
      "execution_count": 4,
      "outputs": [
        {
          "output_type": "stream",
          "name": "stdout",
          "text": [
            "54\n"
          ]
        }
      ]
    }
  ]
}