{
  "nbformat": 4,
  "nbformat_minor": 0,
  "metadata": {
    "colab": {
      "provenance": [],
      "authorship_tag": "ABX9TyO4jxS2CnRmS/N3j0LYGPt5",
      "include_colab_link": true
    },
    "kernelspec": {
      "name": "python3",
      "display_name": "Python 3"
    },
    "language_info": {
      "name": "python"
    }
  },
  "cells": [
    {
      "cell_type": "markdown",
      "metadata": {
        "id": "view-in-github",
        "colab_type": "text"
      },
      "source": [
        "<a href=\"https://colab.research.google.com/github/Sreekar-Kandhadai/python_leetcode/blob/main/Singly_Linked_List/Delete_Node.ipynb\" target=\"_parent\"><img src=\"https://colab.research.google.com/assets/colab-badge.svg\" alt=\"Open In Colab\"/></a>"
      ]
    },
    {
      "cell_type": "code",
      "execution_count": null,
      "metadata": {
        "id": "Azcj68M-n4eP"
      },
      "outputs": [],
      "source": [
        "Delete a node in linked list"
      ]
    },
    {
      "cell_type": "code",
      "source": [
        "class ListNode:\n",
        "    def __init__(self, val=0, next=None):\n",
        "        self.val = val\n",
        "        self.next = next\n",
        "\n",
        "def deleteNode(node):\n",
        "\n",
        "    node.val = node.next.val\n",
        "    node.next = node.next.next\n",
        "\n",
        "def printLinkedList(head):\n",
        "    current = head\n",
        "    while current:\n",
        "        print(current.val, end=\" -> \")\n",
        "        current = current.next\n",
        "    print(\"None\")\n",
        "\n",
        "\n",
        "head = ListNode(4)\n",
        "node2 = ListNode(5)\n",
        "node3 = ListNode(1)\n",
        "node4 = ListNode(9)\n",
        "\n",
        "head.next = node2\n",
        "node2.next = node3\n",
        "node3.next = node4\n",
        "\n",
        "print(\"Original Linked List:\")\n",
        "printLinkedList(head)\n",
        "\n",
        "# Deleting node with value 5 (passing reference to node2)\n",
        "deleteNode(node2)\n",
        "\n",
        "print(\"Linked List after deleting node 5:\")\n",
        "printLinkedList(head)\n"
      ],
      "metadata": {
        "colab": {
          "base_uri": "https://localhost:8080/"
        },
        "id": "dNV-RtzVoI_G",
        "outputId": "4e1f9789-f8d8-4af6-d134-e0f7dbc3d11f"
      },
      "execution_count": 1,
      "outputs": [
        {
          "output_type": "stream",
          "name": "stdout",
          "text": [
            "Original Linked List:\n",
            "4 -> 5 -> 1 -> 9 -> None\n",
            "Linked List after deleting node 5:\n",
            "4 -> 1 -> 9 -> None\n"
          ]
        }
      ]
    }
  ]
}