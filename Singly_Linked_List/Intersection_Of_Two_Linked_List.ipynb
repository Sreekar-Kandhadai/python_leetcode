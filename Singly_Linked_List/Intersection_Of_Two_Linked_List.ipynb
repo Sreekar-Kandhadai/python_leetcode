{
  "nbformat": 4,
  "nbformat_minor": 0,
  "metadata": {
    "colab": {
      "provenance": [],
      "authorship_tag": "ABX9TyO/jbqkQlPdVDxOIF8lSMqg",
      "include_colab_link": true
    },
    "kernelspec": {
      "name": "python3",
      "display_name": "Python 3"
    },
    "language_info": {
      "name": "python"
    }
  },
  "cells": [
    {
      "cell_type": "markdown",
      "metadata": {
        "id": "view-in-github",
        "colab_type": "text"
      },
      "source": [
        "<a href=\"https://colab.research.google.com/github/Sreekar-Kandhadai/python_leetcode/blob/main/Singly_Linked_List/Intersection_Of_Two_Linked_List.ipynb\" target=\"_parent\"><img src=\"https://colab.research.google.com/assets/colab-badge.svg\" alt=\"Open In Colab\"/></a>"
      ]
    },
    {
      "cell_type": "code",
      "execution_count": null,
      "metadata": {
        "id": "8tO4s1nm3Dkf"
      },
      "outputs": [],
      "source": [
        "Intersection of two linked lists"
      ]
    },
    {
      "cell_type": "code",
      "source": [
        "class ListNode:\n",
        "\n",
        "  def __init__(self,value):\n",
        "\n",
        "    self.value=value\n",
        "    self.next=None\n",
        "\n",
        "class Solution:\n",
        "\n",
        "\n",
        "  def intersection(self,head1,head2):\n",
        "\n",
        "    pointerA,pointerB=head1,head2\n",
        "\n",
        "    while pointerA!=pointerB:\n",
        "      pointerA=pointerA.next if pointerA else head2\n",
        "      pointerB=pointerB.next if pointerB else head1\n",
        "\n",
        "    return pointerA\n",
        "\n",
        "\n",
        "l1=ListNode(4)\n",
        "l1.next=ListNode(1)\n",
        "l1.next.next=ListNode(8)\n",
        "l1.next.next.next=ListNode(4)\n",
        "l1.next.next.next.next=ListNode(5)\n",
        "\n",
        "l2=ListNode(5)\n",
        "l2.next=ListNode(6)\n",
        "l2.next.next=ListNode(1)\n",
        "l2.next.next.next=l1.next.next\n",
        "\n",
        "s=Solution()\n",
        "\n",
        "result=s.intersection(l1,l2)\n",
        "\n",
        "print(result.value)"
      ],
      "metadata": {
        "colab": {
          "base_uri": "https://localhost:8080/"
        },
        "id": "aevp9p6S3Rrf",
        "outputId": "aa5f1426-b1d3-4cf4-c13a-35655d18db47"
      },
      "execution_count": 6,
      "outputs": [
        {
          "output_type": "stream",
          "name": "stdout",
          "text": [
            "8\n"
          ]
        }
      ]
    }
  ]
}