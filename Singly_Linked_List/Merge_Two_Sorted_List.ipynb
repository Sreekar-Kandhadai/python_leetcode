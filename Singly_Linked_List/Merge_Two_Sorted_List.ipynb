{
  "nbformat": 4,
  "nbformat_minor": 0,
  "metadata": {
    "colab": {
      "provenance": [],
      "authorship_tag": "ABX9TyOrWtjF9vzTZlYiHc02Erv8",
      "include_colab_link": true
    },
    "kernelspec": {
      "name": "python3",
      "display_name": "Python 3"
    },
    "language_info": {
      "name": "python"
    }
  },
  "cells": [
    {
      "cell_type": "markdown",
      "metadata": {
        "id": "view-in-github",
        "colab_type": "text"
      },
      "source": [
        "<a href=\"https://colab.research.google.com/github/Sreekar-Kandhadai/python_leetcode/blob/main/Singly_Linked_List/Merge_Two_Sorted_List.ipynb\" target=\"_parent\"><img src=\"https://colab.research.google.com/assets/colab-badge.svg\" alt=\"Open In Colab\"/></a>"
      ]
    },
    {
      "cell_type": "code",
      "execution_count": null,
      "metadata": {
        "id": "UMQsHpzvXKLq"
      },
      "outputs": [],
      "source": [
        "Merge Two Sorted Lists"
      ]
    },
    {
      "cell_type": "code",
      "source": [
        "class ListNode:\n",
        "    def __init__(self, val=0, next=None):\n",
        "        self.val = val\n",
        "        self.next = next\n",
        "\n",
        "class Solution:\n",
        "    def mergeTwoLists(self, list1, list2):\n",
        "        dummy = ListNode(0)\n",
        "        current = dummy\n",
        "\n",
        "        while list1 and list2:\n",
        "            if list1.val <= list2.val:\n",
        "                current.next = list1\n",
        "                list1 = list1.next\n",
        "            else:\n",
        "                current.next = list2\n",
        "                list2 = list2.next\n",
        "            current = current.next\n",
        "\n",
        "        if list1:\n",
        "            current.next = list1\n",
        "        if list2:\n",
        "            current.next = list2\n",
        "\n",
        "        return dummy.next\n",
        "\n",
        "    def printlist(self,head):\n",
        "\n",
        "      while head:\n",
        "\n",
        "        print(head.val,end=\" -> \")\n",
        "        head=head.next\n",
        "\n",
        "list1=ListNode(1)\n",
        "list1.next=ListNode(2)\n",
        "list1.next.next=ListNode(4)\n",
        "\n",
        "list2=ListNode(1)\n",
        "list2.next=ListNode(3)\n",
        "list2.next.next=ListNode(4)\n",
        "\n",
        "s=Solution()\n",
        "\n",
        "result=s.mergeTwoLists(list1,list2)\n",
        "\n",
        "s.printlist(result)"
      ],
      "metadata": {
        "colab": {
          "base_uri": "https://localhost:8080/"
        },
        "id": "SMU1Hr6UXK4E",
        "outputId": "0d463c6d-cf04-4362-f089-8cb4b2bab53e"
      },
      "execution_count": 2,
      "outputs": [
        {
          "output_type": "stream",
          "name": "stdout",
          "text": [
            "1 -> 1 -> 2 -> 3 -> 4 -> 4 -> "
          ]
        }
      ]
    }
  ]
}