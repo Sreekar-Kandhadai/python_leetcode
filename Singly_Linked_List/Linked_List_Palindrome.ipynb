{
  "nbformat": 4,
  "nbformat_minor": 0,
  "metadata": {
    "colab": {
      "provenance": [],
      "authorship_tag": "ABX9TyNzJgBBjZOXUsTss3NQBPcD",
      "include_colab_link": true
    },
    "kernelspec": {
      "name": "python3",
      "display_name": "Python 3"
    },
    "language_info": {
      "name": "python"
    }
  },
  "cells": [
    {
      "cell_type": "markdown",
      "metadata": {
        "id": "view-in-github",
        "colab_type": "text"
      },
      "source": [
        "<a href=\"https://colab.research.google.com/github/Sreekar-Kandhadai/python_leetcode/blob/main/Singly_Linked_List/Linked_List_Palindrome.ipynb\" target=\"_parent\"><img src=\"https://colab.research.google.com/assets/colab-badge.svg\" alt=\"Open In Colab\"/></a>"
      ]
    },
    {
      "cell_type": "code",
      "execution_count": null,
      "metadata": {
        "id": "ZJG8lUcMH_wU"
      },
      "outputs": [],
      "source": [
        "Check if Linked List is Palindrome or not"
      ]
    },
    {
      "cell_type": "code",
      "source": [
        "class ListNode:\n",
        "\n",
        "  def __init__(self,value):\n",
        "\n",
        "    self.value=value\n",
        "    self.next=None\n",
        "\n",
        "\n",
        "class Solution:\n",
        "\n",
        "  def palindrome(self,head):\n",
        "\n",
        "    fast=head\n",
        "    slow=head\n",
        "\n",
        "    while fast and fast.next:\n",
        "      fast=fast.next.next\n",
        "      slow=slow.next\n",
        "\n",
        "    prev=None\n",
        "\n",
        "    current=slow\n",
        "\n",
        "    while current:\n",
        "      next_node=current.next\n",
        "      current.next=prev\n",
        "      prev=current\n",
        "      current=next_node\n",
        "\n",
        "    left=head\n",
        "\n",
        "    while prev:\n",
        "      if left.value!=prev.value:\n",
        "        return False\n",
        "\n",
        "      left=left.next\n",
        "      prev=prev.next\n",
        "\n",
        "    return True\n",
        "\n",
        "l1=ListNode(1)\n",
        "l1.next=ListNode(2)\n",
        "l1.next.next=ListNode(2)\n",
        "l1.next.next.next=ListNode(1)\n",
        "l1.next.next.next.next=ListNode(1)\n",
        "\n",
        "s=Solution()\n",
        "result=s.palindrome(l1)\n",
        "\n",
        "print(result)\n",
        "\n"
      ],
      "metadata": {
        "colab": {
          "base_uri": "https://localhost:8080/"
        },
        "id": "YRqT_ZplIAUz",
        "outputId": "d7ccbf66-53f8-41a0-b470-1283d317eb85"
      },
      "execution_count": 2,
      "outputs": [
        {
          "output_type": "stream",
          "name": "stdout",
          "text": [
            "False\n"
          ]
        }
      ]
    }
  ]
}