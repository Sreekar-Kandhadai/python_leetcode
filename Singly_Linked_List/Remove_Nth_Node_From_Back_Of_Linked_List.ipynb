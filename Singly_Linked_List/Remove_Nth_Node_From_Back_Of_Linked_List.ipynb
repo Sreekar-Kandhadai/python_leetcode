{
  "nbformat": 4,
  "nbformat_minor": 0,
  "metadata": {
    "colab": {
      "provenance": [],
      "authorship_tag": "ABX9TyOqm1ljRoT8/bw7tT9BnrWH",
      "include_colab_link": true
    },
    "kernelspec": {
      "name": "python3",
      "display_name": "Python 3"
    },
    "language_info": {
      "name": "python"
    }
  },
  "cells": [
    {
      "cell_type": "markdown",
      "metadata": {
        "id": "view-in-github",
        "colab_type": "text"
      },
      "source": [
        "<a href=\"https://colab.research.google.com/github/Sreekar-Kandhadai/python_leetcode/blob/main/Singly_Linked_List/Remove_Nth_Node_From_Back_Of_Linked_List.ipynb\" target=\"_parent\"><img src=\"https://colab.research.google.com/assets/colab-badge.svg\" alt=\"Open In Colab\"/></a>"
      ]
    },
    {
      "cell_type": "code",
      "execution_count": null,
      "metadata": {
        "id": "XsziVGcDCd-T"
      },
      "outputs": [],
      "source": [
        "Remove_Nth_Node_From_Back_Of_Linked_List"
      ]
    },
    {
      "cell_type": "code",
      "source": [
        "class ListNode:\n",
        "  def __init__(self,value):\n",
        "    self.value=value\n",
        "    self.next=None\n",
        "\n",
        "class Solution:\n",
        "\n",
        "  def delete_n_node(self,head,n):\n",
        "    fast=head\n",
        "    slow=head\n",
        "\n",
        "    for _ in range(n):\n",
        "      fast=fast.next\n",
        "\n",
        "    if not fast:\n",
        "      return head.next\n",
        "\n",
        "    while fast.next:\n",
        "      fast=fast.next\n",
        "      slow=slow.next\n",
        "\n",
        "    slow.next=slow.next.next\n",
        "\n",
        "    return head\n",
        "\n",
        "\n",
        "\n",
        "  def print_list(self,head):\n",
        "\n",
        "    while head:\n",
        "      print(head.value,end=\" -> \")\n",
        "      head=head.next\n",
        "\n",
        "\n",
        "\n",
        "l1=ListNode(1)\n",
        "l1.next=ListNode(2)\n",
        "l1.next.next=ListNode(3)\n",
        "l1.next.next.next=ListNode(4)\n",
        "l1.next.next.next.next=ListNode(5)\n",
        "\n",
        "s=Solution()\n",
        "\n",
        "result=s.delete_n_node(l1,5)\n",
        "\n",
        "s.print_list(result)\n",
        "\n"
      ],
      "metadata": {
        "colab": {
          "base_uri": "https://localhost:8080/"
        },
        "id": "TuUSucBoC-04",
        "outputId": "4ecc5965-82b6-43f8-9cbd-6a43712c7267"
      },
      "execution_count": 15,
      "outputs": [
        {
          "output_type": "stream",
          "name": "stdout",
          "text": [
            "2 -> 3 -> 4 -> 5 -> "
          ]
        }
      ]
    }
  ]
}