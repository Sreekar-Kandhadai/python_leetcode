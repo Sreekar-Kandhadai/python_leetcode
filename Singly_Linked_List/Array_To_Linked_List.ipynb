{
  "nbformat": 4,
  "nbformat_minor": 0,
  "metadata": {
    "colab": {
      "provenance": [],
      "authorship_tag": "ABX9TyN5YUCbBo8aV/CUCx5BPGxY",
      "include_colab_link": true
    },
    "kernelspec": {
      "name": "python3",
      "display_name": "Python 3"
    },
    "language_info": {
      "name": "python"
    }
  },
  "cells": [
    {
      "cell_type": "markdown",
      "metadata": {
        "id": "view-in-github",
        "colab_type": "text"
      },
      "source": [
        "<a href=\"https://colab.research.google.com/github/Sreekar-Kandhadai/python_leetcode/blob/main/Singly_Linked_List/Array_To_Linked_List.ipynb\" target=\"_parent\"><img src=\"https://colab.research.google.com/assets/colab-badge.svg\" alt=\"Open In Colab\"/></a>"
      ]
    },
    {
      "cell_type": "code",
      "execution_count": null,
      "metadata": {
        "id": "Q0eFL9b4XMOB"
      },
      "outputs": [],
      "source": [
        "convert given array to Linked List"
      ]
    },
    {
      "cell_type": "code",
      "source": [
        "class ListNode:\n",
        "\n",
        "  def __init__(self,value):\n",
        "    self.value=value\n",
        "    self.next=None\n",
        "\n",
        "class Solution:\n",
        "\n",
        "  def array_linkedlist(self,arr):\n",
        "\n",
        "    if not arr:\n",
        "      return None\n",
        "\n",
        "    n=len(arr)\n",
        "\n",
        "    l1=ListNode(arr[0])\n",
        "\n",
        "    current=l1\n",
        "\n",
        "\n",
        "    for i in range(1,n):\n",
        "      current.next=ListNode(arr[i])\n",
        "      current=current.next\n",
        "\n",
        "    return l1\n",
        "\n",
        "\n",
        "\n",
        "\n",
        "  def print_list(self,head):\n",
        "\n",
        "    while head:\n",
        "\n",
        "      print(head.value,end=\" -> \")\n",
        "      head=head.next\n",
        "\n",
        "    print(\"None\")\n",
        "\n",
        "s=Solution()\n",
        "\n",
        "arr=[1,2,3,4,5]\n",
        "\n",
        "result=s.array_linkedlist(arr)\n",
        "\n",
        "s.print_list(result)"
      ],
      "metadata": {
        "colab": {
          "base_uri": "https://localhost:8080/"
        },
        "id": "0Fq7L7FJXShd",
        "outputId": "fbbb7484-8cb6-4e97-a397-aa840173a1fe"
      },
      "execution_count": 3,
      "outputs": [
        {
          "output_type": "stream",
          "name": "stdout",
          "text": [
            "1 -> 2 -> 3 -> 4 -> 5 -> None\n"
          ]
        }
      ]
    }
  ]
}