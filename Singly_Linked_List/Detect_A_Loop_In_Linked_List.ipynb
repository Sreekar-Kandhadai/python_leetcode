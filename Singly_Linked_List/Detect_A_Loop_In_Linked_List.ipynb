{
  "nbformat": 4,
  "nbformat_minor": 0,
  "metadata": {
    "colab": {
      "provenance": [],
      "authorship_tag": "ABX9TyOgJYx6bMup+Yhae6ff2EXl",
      "include_colab_link": true
    },
    "kernelspec": {
      "name": "python3",
      "display_name": "Python 3"
    },
    "language_info": {
      "name": "python"
    }
  },
  "cells": [
    {
      "cell_type": "markdown",
      "metadata": {
        "id": "view-in-github",
        "colab_type": "text"
      },
      "source": [
        "<a href=\"https://colab.research.google.com/github/Sreekar-Kandhadai/python_leetcode/blob/main/Singly_Linked_List/Detect_A_Loop_In_Linked_List.ipynb\" target=\"_parent\"><img src=\"https://colab.research.google.com/assets/colab-badge.svg\" alt=\"Open In Colab\"/></a>"
      ]
    },
    {
      "cell_type": "code",
      "execution_count": null,
      "metadata": {
        "id": "3beTsg15pgGj"
      },
      "outputs": [],
      "source": [
        "Detect a loop in linked list and if it's present return True else return False"
      ]
    },
    {
      "cell_type": "code",
      "source": [
        "class ListNode:\n",
        "\n",
        "  def __init__(self,value):\n",
        "\n",
        "    self.value=value\n",
        "    self.next=None\n",
        "\n",
        "class Solution:\n",
        "\n",
        "  def detectLoop(self,head):\n",
        "\n",
        "    fast=head\n",
        "    slow=head\n",
        "\n",
        "    while fast and fast.next:\n",
        "\n",
        "      fast=fast.next.next\n",
        "      slow=slow.next\n",
        "\n",
        "      if fast==slow:\n",
        "        return True\n",
        "\n",
        "    return False\n",
        "\n",
        "\n",
        "\n",
        "l1=ListNode(3)\n",
        "l1.next=ListNode(2)\n",
        "l1.next.next=ListNode(0)\n",
        "l1.next.next.next=ListNode(-4)\n",
        "l1.next.next.next.next=l1.next\n",
        "\n",
        "s=Solution()\n",
        "\n",
        "result=s.detectLoop(l1)\n",
        "\n",
        "print(result)"
      ],
      "metadata": {
        "colab": {
          "base_uri": "https://localhost:8080/"
        },
        "id": "qAX09nHFq95F",
        "outputId": "d7a33dcb-cc47-4ccd-f482-2066a3f94d23"
      },
      "execution_count": 3,
      "outputs": [
        {
          "output_type": "stream",
          "name": "stdout",
          "text": [
            "True\n"
          ]
        }
      ]
    }
  ]
}