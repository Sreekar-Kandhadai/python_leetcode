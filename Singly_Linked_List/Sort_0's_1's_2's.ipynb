{
  "nbformat": 4,
  "nbformat_minor": 0,
  "metadata": {
    "colab": {
      "provenance": [],
      "authorship_tag": "ABX9TyMEp9Q1em1TtMl84wPAZi6j",
      "include_colab_link": true
    },
    "kernelspec": {
      "name": "python3",
      "display_name": "Python 3"
    },
    "language_info": {
      "name": "python"
    }
  },
  "cells": [
    {
      "cell_type": "markdown",
      "metadata": {
        "id": "view-in-github",
        "colab_type": "text"
      },
      "source": [
        "<a href=\"https://colab.research.google.com/github/Sreekar-Kandhadai/python_leetcode/blob/main/Singly_Linked_List/Sort_0's_1's_2's.ipynb\" target=\"_parent\"><img src=\"https://colab.research.google.com/assets/colab-badge.svg\" alt=\"Open In Colab\"/></a>"
      ]
    },
    {
      "cell_type": "code",
      "execution_count": null,
      "metadata": {
        "id": "PjUefF0YtsCA"
      },
      "outputs": [],
      "source": [
        "Sort a linked list of 0s, 1s and 2s"
      ]
    },
    {
      "cell_type": "code",
      "source": [
        "class ListNode:\n",
        "\n",
        "  def __init__(self,value):\n",
        "\n",
        "    self.value=value\n",
        "    self.next=None\n",
        "\n",
        "class Solution:\n",
        "\n",
        "  def create(self,arr):\n",
        "\n",
        "    head=ListNode(arr[0])\n",
        "    current=head\n",
        "\n",
        "    n=len(arr)\n",
        "\n",
        "    for i in range(1,n):\n",
        "      current.next=ListNode(arr[i])\n",
        "      current=current.next\n",
        "\n",
        "    return head\n",
        "\n",
        "  def sort(self,head):\n",
        "\n",
        "    temp=head\n",
        "    count=[0,0,0]\n",
        "\n",
        "    while temp:\n",
        "      count[temp.value]+=1\n",
        "      temp=temp.next\n",
        "\n",
        "\n",
        "    temp=head\n",
        "\n",
        "    for i in range(3):\n",
        "\n",
        "      while count[i]>0:\n",
        "        temp.value=i\n",
        "        temp=temp.next\n",
        "        count[i]-=1\n",
        "\n",
        "    return head\n",
        "\n",
        "  def print_lists(self,head):\n",
        "\n",
        "    while head:\n",
        "      print(head.value,end=\" -> \")\n",
        "      head=head.next\n",
        "\n",
        "    print(\"None\")\n",
        "\n",
        "s=Solution()\n",
        "\n",
        "arr=[0,1,2,0,1,2,0,1,2]\n",
        "\n",
        "head=s.create(arr)\n",
        "\n",
        "result=s.sort(head)\n",
        "\n",
        "s.print_lists(result)\n",
        "\n"
      ],
      "metadata": {
        "colab": {
          "base_uri": "https://localhost:8080/"
        },
        "id": "AqX6uFy-uD_U",
        "outputId": "e648ed15-a63f-42c8-a441-9bd1b69536ad"
      },
      "execution_count": 3,
      "outputs": [
        {
          "output_type": "stream",
          "name": "stdout",
          "text": [
            "0 -> 0 -> 0 -> 1 -> 1 -> 1 -> 2 -> 2 -> 2 -> None\n"
          ]
        }
      ]
    }
  ]
}