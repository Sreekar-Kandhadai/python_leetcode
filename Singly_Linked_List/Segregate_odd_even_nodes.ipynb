{
  "nbformat": 4,
  "nbformat_minor": 0,
  "metadata": {
    "colab": {
      "provenance": [],
      "authorship_tag": "ABX9TyNbrW0EHC+ysbUGL/c2JI4h",
      "include_colab_link": true
    },
    "kernelspec": {
      "name": "python3",
      "display_name": "Python 3"
    },
    "language_info": {
      "name": "python"
    }
  },
  "cells": [
    {
      "cell_type": "markdown",
      "metadata": {
        "id": "view-in-github",
        "colab_type": "text"
      },
      "source": [
        "<a href=\"https://colab.research.google.com/github/Sreekar-Kandhadai/python_leetcode/blob/main/Singly_Linked_List/Segregate_odd_even_nodes.ipynb\" target=\"_parent\"><img src=\"https://colab.research.google.com/assets/colab-badge.svg\" alt=\"Open In Colab\"/></a>"
      ]
    },
    {
      "cell_type": "code",
      "execution_count": null,
      "metadata": {
        "id": "4u0iO4Fqjean"
      },
      "outputs": [],
      "source": [
        "Segregate odd and even nodes in a linked list"
      ]
    },
    {
      "cell_type": "code",
      "source": [
        "class ListNode:\n",
        "\n",
        "  def __init__(self,value):\n",
        "\n",
        "    self.value=value\n",
        "    self.next=None\n",
        "\n",
        "class Solution:\n",
        "\n",
        "  def segregate(self,head):\n",
        "\n",
        "    if not head or not head.next:\n",
        "      return head\n",
        "\n",
        "    odd=head\n",
        "    even=head.next\n",
        "    even_head=head.next\n",
        "\n",
        "    while even and even.next:\n",
        "      odd.next=odd.next.next\n",
        "      even.next=even.next.next\n",
        "\n",
        "      odd=odd.next\n",
        "      even=even.next\n",
        "\n",
        "    odd.next=even_head\n",
        "    return head\n",
        "\n",
        "\n",
        "  def print_lists(self,head):\n",
        "\n",
        "    while head:\n",
        "      print(head.value, end=\" -> \")\n",
        "      head=head.next\n",
        "\n",
        "    print(\"None\")\n",
        "\n",
        "\n",
        "\n",
        "l1=ListNode(1)\n",
        "l1.next=ListNode(2)\n",
        "l1.next.next=ListNode(3)\n",
        "l1.next.next.next=ListNode(4)\n",
        "l1.next.next.next.next=ListNode((5))\n",
        "\n",
        "s=Solution()\n",
        "\n",
        "result=s.segregate(l1)\n",
        "\n",
        "s.print_lists(result)\n",
        "\n"
      ],
      "metadata": {
        "colab": {
          "base_uri": "https://localhost:8080/"
        },
        "id": "Ww8t4TLEjjMm",
        "outputId": "778fe986-e864-4097-9294-71f1e329f25f"
      },
      "execution_count": 2,
      "outputs": [
        {
          "output_type": "stream",
          "name": "stdout",
          "text": [
            "1 -> 3 -> 5 -> 2 -> 4 -> None\n"
          ]
        }
      ]
    }
  ]
}