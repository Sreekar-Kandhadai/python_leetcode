{
  "nbformat": 4,
  "nbformat_minor": 0,
  "metadata": {
    "colab": {
      "provenance": [],
      "authorship_tag": "ABX9TyM2vlegkccRPj7uwq8Yp4SE",
      "include_colab_link": true
    },
    "kernelspec": {
      "name": "python3",
      "display_name": "Python 3"
    },
    "language_info": {
      "name": "python"
    }
  },
  "cells": [
    {
      "cell_type": "markdown",
      "metadata": {
        "id": "view-in-github",
        "colab_type": "text"
      },
      "source": [
        "<a href=\"https://colab.research.google.com/github/Sreekar-Kandhadai/python_leetcode/blob/main/Singly_Linked_List/Count_Linked_List_Nodes.ipynb\" target=\"_parent\"><img src=\"https://colab.research.google.com/assets/colab-badge.svg\" alt=\"Open In Colab\"/></a>"
      ]
    },
    {
      "cell_type": "code",
      "execution_count": null,
      "metadata": {
        "id": "oIIBID3CQ8UL"
      },
      "outputs": [],
      "source": [
        "Count Linked List Nodes"
      ]
    },
    {
      "cell_type": "code",
      "source": [
        "class ListNode:\n",
        "\n",
        "  def __init__(self,value):\n",
        "\n",
        "    self.value=value\n",
        "    self.next=None\n",
        "\n",
        "class Solution:\n",
        "\n",
        "  def count(self,head):\n",
        "\n",
        "    if not head:\n",
        "      return 0\n",
        "\n",
        "    if not head.next:\n",
        "      return 1\n",
        "\n",
        "    head=head.next\n",
        "    cnt=1\n",
        "\n",
        "    while head:\n",
        "      head=head.next\n",
        "      cnt+=1\n",
        "\n",
        "    return cnt\n",
        "\n",
        "\n",
        "l1=ListNode(1)\n",
        "l1.next=ListNode(2)\n",
        "l1.next.next=ListNode(3)\n",
        "l1.next.next.next=ListNode(4)\n",
        "l1.next.next.next.next=ListNode(5)\n",
        "l1.next.next.next.next.next=ListNode(6)\n",
        "\n",
        "s=Solution()\n",
        "\n",
        "result=s.count(l1)\n",
        "\n",
        "print(result)\n"
      ],
      "metadata": {
        "colab": {
          "base_uri": "https://localhost:8080/"
        },
        "id": "gkW0-sJdRAeZ",
        "outputId": "a447bc7d-4f4f-4ca7-dc9b-d5aae9af8e3a"
      },
      "execution_count": 3,
      "outputs": [
        {
          "output_type": "stream",
          "name": "stdout",
          "text": [
            "6\n"
          ]
        }
      ]
    }
  ]
}