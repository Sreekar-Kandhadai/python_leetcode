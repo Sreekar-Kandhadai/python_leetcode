{
  "nbformat": 4,
  "nbformat_minor": 0,
  "metadata": {
    "colab": {
      "provenance": [],
      "authorship_tag": "ABX9TyOH95zdJfG97BVjZBD2BpaJ",
      "include_colab_link": true
    },
    "kernelspec": {
      "name": "python3",
      "display_name": "Python 3"
    },
    "language_info": {
      "name": "python"
    }
  },
  "cells": [
    {
      "cell_type": "markdown",
      "metadata": {
        "id": "view-in-github",
        "colab_type": "text"
      },
      "source": [
        "<a href=\"https://colab.research.google.com/github/Sreekar-Kandhadai/python_leetcode/blob/main/Singly_Linked_List/Detect_A_Loop__IN_Linked_List.ipynb\" target=\"_parent\"><img src=\"https://colab.research.google.com/assets/colab-badge.svg\" alt=\"Open In Colab\"/></a>"
      ]
    },
    {
      "cell_type": "code",
      "execution_count": null,
      "metadata": {
        "id": "0oEm1AtSjKB1"
      },
      "outputs": [],
      "source": [
        "Detect a loop in linked list and return its index"
      ]
    },
    {
      "cell_type": "code",
      "source": [
        "class ListNode:\n",
        "\n",
        "  def __init__(self,value):\n",
        "\n",
        "    self.value=value\n",
        "    self.next=None\n",
        "\n",
        "class Solution:\n",
        "\n",
        "  def detectLoop(self,head):\n",
        "\n",
        "    fast=head\n",
        "    slow=head\n",
        "\n",
        "    while fast and fast.next:\n",
        "\n",
        "      fast=fast.next.next\n",
        "      slow=slow.next\n",
        "\n",
        "      if fast==slow:\n",
        "\n",
        "        pointer=head\n",
        "        index=0\n",
        "\n",
        "        while pointer!=slow:\n",
        "\n",
        "          pointer=pointer.next\n",
        "          slow=slow.next\n",
        "          index+=1\n",
        "\n",
        "        return index\n",
        "\n",
        "    return None\n",
        "\n",
        "\n",
        "\n",
        "l1=ListNode(3)\n",
        "l1.next=ListNode(2)\n",
        "l1.next.next=ListNode(0)\n",
        "l1.next.next.next=ListNode(-4)\n",
        "l1.next.next.next.next=l1.next\n",
        "\n",
        "s=Solution()\n",
        "\n",
        "result=s.detectLoop(l1)\n",
        "\n",
        "print(result)\n",
        "\n",
        "\n"
      ],
      "metadata": {
        "colab": {
          "base_uri": "https://localhost:8080/"
        },
        "id": "mEjhMlvVjLrJ",
        "outputId": "b4e9c45f-7710-4f7c-c17c-5d4bca8b5ca5"
      },
      "execution_count": 4,
      "outputs": [
        {
          "output_type": "stream",
          "name": "stdout",
          "text": [
            "1\n"
          ]
        }
      ]
    }
  ]
}