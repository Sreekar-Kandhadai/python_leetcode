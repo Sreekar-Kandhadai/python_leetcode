{
  "nbformat": 4,
  "nbformat_minor": 0,
  "metadata": {
    "colab": {
      "provenance": [],
      "authorship_tag": "ABX9TyNoKMLRSR/luclFL/XAm95Y",
      "include_colab_link": true
    },
    "kernelspec": {
      "name": "python3",
      "display_name": "Python 3"
    },
    "language_info": {
      "name": "python"
    }
  },
  "cells": [
    {
      "cell_type": "markdown",
      "metadata": {
        "id": "view-in-github",
        "colab_type": "text"
      },
      "source": [
        "<a href=\"https://colab.research.google.com/github/Sreekar-Kandhadai/python_leetcode/blob/main/Singly_Linked_List/Search_In_Linked_List.ipynb\" target=\"_parent\"><img src=\"https://colab.research.google.com/assets/colab-badge.svg\" alt=\"Open In Colab\"/></a>"
      ]
    },
    {
      "cell_type": "code",
      "execution_count": null,
      "metadata": {
        "id": "jtryqjO6Nmy8"
      },
      "outputs": [],
      "source": [
        "Given a linked list of n nodes and a key, the task is to check if the key is present in the linked list or not."
      ]
    },
    {
      "cell_type": "code",
      "source": [
        "class ListNode:\n",
        "\n",
        "  def __init__(self,value):\n",
        "\n",
        "    self.value=value\n",
        "    self.next=None\n",
        "\n",
        "class Solution:\n",
        "\n",
        "  def search(self,head,n):\n",
        "\n",
        "    if not head:\n",
        "      return False\n",
        "\n",
        "    if head.value==n:\n",
        "      return True\n",
        "\n",
        "    head=head.next\n",
        "\n",
        "    while head:\n",
        "      if head.value==n:\n",
        "        return True\n",
        "\n",
        "      head=head.next\n",
        "\n",
        "    return False\n",
        "\n",
        "\n",
        "l1=ListNode(1)\n",
        "l1.next=ListNode(2)\n",
        "l1.next.next=ListNode(3)\n",
        "l1.next.next.next=ListNode(4)\n",
        "l1.next.next.next.next=ListNode(5)\n",
        "\n",
        "s=Solution()\n",
        "\n",
        "result=s.search(l1,10)\n",
        "\n",
        "print(result)\n",
        "\n"
      ],
      "metadata": {
        "colab": {
          "base_uri": "https://localhost:8080/"
        },
        "id": "Lpvlpr7CNtEK",
        "outputId": "7901afc0-add5-4890-a696-e900741874c6"
      },
      "execution_count": 10,
      "outputs": [
        {
          "output_type": "stream",
          "name": "stdout",
          "text": [
            "False\n"
          ]
        }
      ]
    }
  ]
}