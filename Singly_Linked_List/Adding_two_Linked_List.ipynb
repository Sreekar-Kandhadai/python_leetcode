{
  "nbformat": 4,
  "nbformat_minor": 0,
  "metadata": {
    "colab": {
      "provenance": [],
      "authorship_tag": "ABX9TyPI93jJJdnI6qIXB26e0nOs",
      "include_colab_link": true
    },
    "kernelspec": {
      "name": "python3",
      "display_name": "Python 3"
    },
    "language_info": {
      "name": "python"
    }
  },
  "cells": [
    {
      "cell_type": "markdown",
      "metadata": {
        "id": "view-in-github",
        "colab_type": "text"
      },
      "source": [
        "<a href=\"https://colab.research.google.com/github/Sreekar-Kandhadai/python_leetcode/blob/main/Singly_Linked_List/Adding_two_Linked_List.ipynb\" target=\"_parent\"><img src=\"https://colab.research.google.com/assets/colab-badge.svg\" alt=\"Open In Colab\"/></a>"
      ]
    },
    {
      "cell_type": "code",
      "execution_count": null,
      "metadata": {
        "id": "GsiYEpOyGhZJ"
      },
      "outputs": [],
      "source": [
        "Adding two Singly Linked List"
      ]
    },
    {
      "cell_type": "code",
      "source": [
        "class Solution:\n",
        "\n",
        "  def __init__(self,value):\n",
        "    self.value=value\n",
        "    self.next=None\n",
        "\n",
        "  def add_lists(self,l1,l2):\n",
        "\n",
        "    dummy=Solution(0)\n",
        "\n",
        "    current=dummy\n",
        "\n",
        "    carry=0\n",
        "\n",
        "    while l1 or l2 or carry:\n",
        "\n",
        "      val1= l1.value if l1 else 0\n",
        "      val2=l2.value if l2 else 0\n",
        "\n",
        "      total=val1+val2+carry\n",
        "      carry=total//10\n",
        "\n",
        "      current.next=Solution(total%10)\n",
        "      current=current.next\n",
        "\n",
        "      l1=l1.next if l1 else None\n",
        "      l2=l2.next if l2 else None\n",
        "\n",
        "    return dummy.next\n",
        "\n",
        "  def print_lists(self,head):\n",
        "\n",
        "    while head:\n",
        "      print(head.value,end=\" -> \")\n",
        "      head=head.next\n",
        "\n",
        "    print(\"None\")\n",
        "\n",
        "\n",
        "\n",
        "l1=Solution(2)\n",
        "l1.next=Solution(4)\n",
        "l1.next.next=Solution(3)\n",
        "\n",
        "l2=Solution(5)\n",
        "l2.next=Solution(6)\n",
        "l2.next.next=Solution(4)\n",
        "\n",
        "s=Solution(0)\n",
        "result=s.add_lists(l1,l2)\n",
        "\n",
        "s.print_lists(result)\n"
      ],
      "metadata": {
        "colab": {
          "base_uri": "https://localhost:8080/"
        },
        "id": "H6SHJSHhGlo_",
        "outputId": "f4e9c5fc-bd19-40cd-cb5e-31835729827a"
      },
      "execution_count": 1,
      "outputs": [
        {
          "output_type": "stream",
          "name": "stdout",
          "text": [
            "7 -> 0 -> 8 -> None\n"
          ]
        }
      ]
    }
  ]
}