{
  "nbformat": 4,
  "nbformat_minor": 0,
  "metadata": {
    "colab": {
      "provenance": [],
      "authorship_tag": "ABX9TyNuV6XdV2itdJHGSX9Zek+4",
      "include_colab_link": true
    },
    "kernelspec": {
      "name": "python3",
      "display_name": "Python 3"
    },
    "language_info": {
      "name": "python"
    }
  },
  "cells": [
    {
      "cell_type": "markdown",
      "metadata": {
        "id": "view-in-github",
        "colab_type": "text"
      },
      "source": [
        "<a href=\"https://colab.research.google.com/github/Sreekar-Kandhadai/python_leetcode/blob/main/Singly_Linked_List/Reverse_Linked_List.ipynb\" target=\"_parent\"><img src=\"https://colab.research.google.com/assets/colab-badge.svg\" alt=\"Open In Colab\"/></a>"
      ]
    },
    {
      "cell_type": "code",
      "execution_count": null,
      "metadata": {
        "id": "bNGV1VXlVTgQ"
      },
      "outputs": [],
      "source": [
        "Reverse a Linked List"
      ]
    },
    {
      "cell_type": "code",
      "source": [
        "class ListNode:\n",
        "\n",
        "  def __init__(self,value):\n",
        "    self.value=value\n",
        "    self.next=None\n",
        "\n",
        "\n",
        "class Solution:\n",
        "\n",
        "  def reverseList(self,head):\n",
        "    prev=None\n",
        "    current=head\n",
        "\n",
        "    while current:\n",
        "      next_node=current.next\n",
        "      current.next=prev\n",
        "      prev=current\n",
        "      current=next_node\n",
        "\n",
        "    return prev\n",
        "\n",
        "  def print_list(self,head):\n",
        "\n",
        "    while head:\n",
        "\n",
        "      print(head.value,end=' -> ')\n",
        "      head=head.next\n",
        "\n",
        "    print('None')\n",
        "\n",
        "\n",
        "l1=ListNode(1)\n",
        "l1.next=ListNode(2)\n",
        "l1.next.next=ListNode(3)\n",
        "l1.next.next.next=ListNode(4)\n",
        "l1.next.next.next.next=ListNode(5)\n",
        "\n",
        "s=Solution()\n",
        "\n",
        "result=s.reverseList(l1)\n",
        "\n",
        "s.print_list(result)"
      ],
      "metadata": {
        "colab": {
          "base_uri": "https://localhost:8080/"
        },
        "id": "YpXISyttVUXv",
        "outputId": "3462d4a2-03fc-4632-b1fb-fb17573010a7"
      },
      "execution_count": 3,
      "outputs": [
        {
          "output_type": "stream",
          "name": "stdout",
          "text": [
            "5 -> 4 -> 3 -> 2 -> 1 -> None\n"
          ]
        }
      ]
    }
  ]
}