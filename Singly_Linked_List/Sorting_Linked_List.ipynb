{
  "nbformat": 4,
  "nbformat_minor": 0,
  "metadata": {
    "colab": {
      "provenance": [],
      "authorship_tag": "ABX9TyM1IlnVH8ZtodzBHGiGl5mf",
      "include_colab_link": true
    },
    "kernelspec": {
      "name": "python3",
      "display_name": "Python 3"
    },
    "language_info": {
      "name": "python"
    }
  },
  "cells": [
    {
      "cell_type": "markdown",
      "metadata": {
        "id": "view-in-github",
        "colab_type": "text"
      },
      "source": [
        "<a href=\"https://colab.research.google.com/github/Sreekar-Kandhadai/python_leetcode/blob/main/Singly_Linked_List/Sorting_Linked_List.ipynb\" target=\"_parent\"><img src=\"https://colab.research.google.com/assets/colab-badge.svg\" alt=\"Open In Colab\"/></a>"
      ]
    },
    {
      "cell_type": "code",
      "execution_count": null,
      "metadata": {
        "id": "vKcPEbAqB5ma"
      },
      "outputs": [],
      "source": []
    },
    {
      "cell_type": "code",
      "source": [
        "# Definition for singly-linked list.\n",
        "class ListNode:\n",
        "  def __init__(self, val=0, next=None):\n",
        "    self.val = val\n",
        "    self.next = next\n",
        "class Solution:\n",
        "    def sortList(self, head) :\n",
        "        if not head or not head.next:\n",
        "            return head\n",
        "        temp=head\n",
        "        s1=[]\n",
        "\n",
        "        while temp:\n",
        "            s1.append(temp.val)\n",
        "            temp=temp.next\n",
        "\n",
        "        s1=sorted(s1)\n",
        "        head=ListNode(s1[0])\n",
        "        temp=head\n",
        "\n",
        "        for i in range (1,len(s1)):\n",
        "            temp.next=ListNode(s1[i])\n",
        "            temp=temp.next\n",
        "\n",
        "        return head\n",
        "\n",
        "l1=ListNode(4)\n",
        "l1.next=ListNode(2)\n",
        "l1.next.next=ListNode(1)\n",
        "l1.next.next.next=ListNode(3)\n",
        "\n",
        "\n",
        "s=Solution()\n",
        "\n",
        "result=s.sortList(l1)\n",
        "\n",
        "while result:\n",
        "  print(result.val,end=' -> ')\n",
        "  result=result.next\n",
        "\n",
        "print('None')"
      ],
      "metadata": {
        "colab": {
          "base_uri": "https://localhost:8080/"
        },
        "id": "QiWCPJpVB6UW",
        "outputId": "eb65249f-a869-416e-b0f4-ee5310d38558"
      },
      "execution_count": 2,
      "outputs": [
        {
          "output_type": "stream",
          "name": "stdout",
          "text": [
            "1 -> 2 -> 3 -> 4 -> None\n"
          ]
        }
      ]
    }
  ]
}