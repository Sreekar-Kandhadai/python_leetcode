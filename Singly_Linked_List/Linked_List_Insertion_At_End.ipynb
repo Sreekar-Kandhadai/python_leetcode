{
  "nbformat": 4,
  "nbformat_minor": 0,
  "metadata": {
    "colab": {
      "provenance": [],
      "authorship_tag": "ABX9TyMG8S0CVuwdntG4Yv4LkSXQ",
      "include_colab_link": true
    },
    "kernelspec": {
      "name": "python3",
      "display_name": "Python 3"
    },
    "language_info": {
      "name": "python"
    }
  },
  "cells": [
    {
      "cell_type": "markdown",
      "metadata": {
        "id": "view-in-github",
        "colab_type": "text"
      },
      "source": [
        "<a href=\"https://colab.research.google.com/github/Sreekar-Kandhadai/python_leetcode/blob/main/Singly_Linked_List/Linked_List_Insertion_At_End.ipynb\" target=\"_parent\"><img src=\"https://colab.research.google.com/assets/colab-badge.svg\" alt=\"Open In Colab\"/></a>"
      ]
    },
    {
      "cell_type": "code",
      "execution_count": null,
      "metadata": {
        "id": "k6JSn9XvTUCR"
      },
      "outputs": [],
      "source": [
        "Linked List Insertion at end"
      ]
    },
    {
      "cell_type": "code",
      "source": [
        "class ListNode:\n",
        "\n",
        "  def __init__(self,value):\n",
        "\n",
        "    self.value=value\n",
        "    self.next=None\n",
        "\n",
        "class Solution:\n",
        "\n",
        "  def insertion(self,head,x):\n",
        "\n",
        "    new=ListNode(x)\n",
        "\n",
        "    if not head:\n",
        "      return new\n",
        "\n",
        "    if not head.next:\n",
        "      head.next=new\n",
        "      return head\n",
        "\n",
        "    current=head.next\n",
        "\n",
        "    while current.next:\n",
        "      current=current.next\n",
        "\n",
        "    current.next=new\n",
        "\n",
        "    return head\n",
        "\n",
        "\n",
        "\n",
        "  def print_lists(self,head):\n",
        "\n",
        "    while head:\n",
        "      print(head.value,end=\" -> \")\n",
        "      head=head.next\n",
        "\n",
        "    print(\"None\")\n",
        "\n",
        "\n",
        "l1=ListNode(1)\n",
        "l1.next=ListNode(2)\n",
        "l1.next.next=ListNode(3)\n",
        "l1.next.next.next=ListNode(4)\n",
        "l1.next.next.next.next=ListNode(5)\n",
        "\n",
        "s=Solution()\n",
        "\n",
        "result=s.insertion(l1,7)\n",
        "\n",
        "s.print_lists(result)\n"
      ],
      "metadata": {
        "colab": {
          "base_uri": "https://localhost:8080/"
        },
        "id": "xZgBURr0TYFg",
        "outputId": "b8ca0f51-532c-4e5e-e637-ea252aa3b349"
      },
      "execution_count": 8,
      "outputs": [
        {
          "output_type": "stream",
          "name": "stdout",
          "text": [
            "1 -> 2 -> 3 -> 4 -> 5 -> 7 -> None\n"
          ]
        }
      ]
    }
  ]
}