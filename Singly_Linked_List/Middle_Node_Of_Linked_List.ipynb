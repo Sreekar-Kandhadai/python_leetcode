{
  "nbformat": 4,
  "nbformat_minor": 0,
  "metadata": {
    "colab": {
      "provenance": [],
      "authorship_tag": "ABX9TyPMmchPpOkMXLFJmMOaATLK",
      "include_colab_link": true
    },
    "kernelspec": {
      "name": "python3",
      "display_name": "Python 3"
    },
    "language_info": {
      "name": "python"
    }
  },
  "cells": [
    {
      "cell_type": "markdown",
      "metadata": {
        "id": "view-in-github",
        "colab_type": "text"
      },
      "source": [
        "<a href=\"https://colab.research.google.com/github/Sreekar-Kandhadai/python_leetcode/blob/main/Singly_Linked_List/Middle_Node_Of_Linked_List.ipynb\" target=\"_parent\"><img src=\"https://colab.research.google.com/assets/colab-badge.svg\" alt=\"Open In Colab\"/></a>"
      ]
    },
    {
      "cell_type": "code",
      "execution_count": null,
      "metadata": {
        "id": "iXjBkDGyNh9O"
      },
      "outputs": [],
      "source": [
        "Middle Node of the Linked List"
      ]
    },
    {
      "cell_type": "code",
      "source": [
        "class ListNode:\n",
        "\n",
        "  def __init__(self,value):\n",
        "\n",
        "    self.value=value\n",
        "    self.next=None\n",
        "\n",
        "class Solution:\n",
        "\n",
        "  def middleNode(self,head):\n",
        "\n",
        "    fast=head\n",
        "    slow=head\n",
        "\n",
        "    while fast and fast.next:\n",
        "\n",
        "      fast=fast.next.next\n",
        "      slow=slow.next\n",
        "\n",
        "    return slow\n",
        "\n",
        "  def print_list(self,head):\n",
        "\n",
        "    while head:\n",
        "\n",
        "      print(head.value,end=' -> ')\n",
        "      head=head.next\n",
        "\n",
        "    print('None')\n",
        "\n",
        "\n",
        "\n",
        "\n",
        "head=ListNode(1)\n",
        "head.next=ListNode(2)\n",
        "head.next.next=ListNode(3)\n",
        "head.next.next.next=ListNode(4)\n",
        "head.next.next.next.next=ListNode(5)\n",
        "head.next.next.next.next.next=ListNode(6)\n",
        "\n",
        "s=Solution()\n",
        "\n",
        "result=s.middleNode(head)\n",
        "\n",
        "s.print_list(result)"
      ],
      "metadata": {
        "colab": {
          "base_uri": "https://localhost:8080/"
        },
        "id": "JTInnKfmNntK",
        "outputId": "f95b85bc-53d4-43fd-dda4-6fbfa5caa8db"
      },
      "execution_count": 2,
      "outputs": [
        {
          "output_type": "stream",
          "name": "stdout",
          "text": [
            "4 -> 5 -> 6 -> None\n"
          ]
        }
      ]
    }
  ]
}