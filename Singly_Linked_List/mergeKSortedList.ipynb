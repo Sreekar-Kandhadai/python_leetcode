{
  "nbformat": 4,
  "nbformat_minor": 0,
  "metadata": {
    "colab": {
      "provenance": [],
      "authorship_tag": "ABX9TyOuvkwVyd216lGuB04IuIMl",
      "include_colab_link": true
    },
    "kernelspec": {
      "name": "python3",
      "display_name": "Python 3"
    },
    "language_info": {
      "name": "python"
    }
  },
  "cells": [
    {
      "cell_type": "markdown",
      "metadata": {
        "id": "view-in-github",
        "colab_type": "text"
      },
      "source": [
        "<a href=\"https://colab.research.google.com/github/Sreekar-Kandhadai/python_leetcode/blob/main/Singly_Linked_List/mergeKSortedList.ipynb\" target=\"_parent\"><img src=\"https://colab.research.google.com/assets/colab-badge.svg\" alt=\"Open In Colab\"/></a>"
      ]
    },
    {
      "cell_type": "code",
      "execution_count": null,
      "metadata": {
        "id": "2q9azjO0igtp"
      },
      "outputs": [],
      "source": [
        "Merge K sorted list"
      ]
    },
    {
      "cell_type": "code",
      "source": [
        "class ListNode:\n",
        "\n",
        "  def __init__(self,value):\n",
        "\n",
        "    self.value=value\n",
        "    self.next=None\n",
        "\n",
        "class Solution:\n",
        "\n",
        "  def createList(self,arr):\n",
        "\n",
        "    head=ListNode(arr[0])\n",
        "    l1=head\n",
        "\n",
        "    for i in range(1,len(arr)):\n",
        "\n",
        "      l1.next=ListNode(arr[i])\n",
        "      l1=l1.next\n",
        "\n",
        "    return head\n",
        "\n",
        "  def mergeList(self,l1,l2):\n",
        "\n",
        "    if not l1 and not l2 :\n",
        "      return\n",
        "\n",
        "    dummy=ListNode(0)\n",
        "    current=dummy\n",
        "\n",
        "    while l1 and l2:\n",
        "\n",
        "      if l1.value <=l2.value:\n",
        "        current.next=l1\n",
        "        l1=l1.next\n",
        "      elif l2.value < l1.value:\n",
        "        current.next=l2\n",
        "        l2=l2.next\n",
        "\n",
        "      current=current.next\n",
        "\n",
        "    if l1:\n",
        "      current.next=l1\n",
        "\n",
        "    if l2:\n",
        "      current.next=l2\n",
        "\n",
        "    return dummy.next\n",
        "\n",
        "  def mergeKList(self,data):\n",
        "\n",
        "    if not data:\n",
        "      return None\n",
        "\n",
        "    while len(data)>1:\n",
        "\n",
        "      merged_list=[]\n",
        "\n",
        "      for i in range(0,len(data),2):\n",
        "\n",
        "        l1=data[i]\n",
        "        l2=data[i+1] if i+1 < len(data) else None\n",
        "\n",
        "        merged_list.append(self.mergeList(l1,l2))\n",
        "\n",
        "      data=merged_list\n",
        "\n",
        "    return data[0]\n",
        "\n",
        "  def printList(self,head):\n",
        "\n",
        "    while head:\n",
        "\n",
        "      print(head.value,end=\" -> \")\n",
        "      head=head.next\n",
        "\n",
        "\n",
        "\n",
        "s=Solution()\n",
        "data=[]\n",
        "arr1=[1,4,5]\n",
        "arr2=[1,3,4]\n",
        "arr3=[2,6]\n",
        "data.append(s.createList(arr1))\n",
        "data.append(s.createList(arr2))\n",
        "data.append(s.createList(arr3))\n",
        "\n",
        "s=Solution()\n",
        "result=s.mergeKList(data)\n",
        "\n",
        "s.printList(result)\n",
        "\n"
      ],
      "metadata": {
        "colab": {
          "base_uri": "https://localhost:8080/"
        },
        "id": "qBZCP08rii3F",
        "outputId": "676ef44c-7aed-45d4-d604-a6471ca5489d"
      },
      "execution_count": 7,
      "outputs": [
        {
          "output_type": "stream",
          "name": "stdout",
          "text": [
            "1 -> 1 -> 2 -> 3 -> 4 -> 4 -> 5 -> 6 -> "
          ]
        }
      ]
    }
  ]
}