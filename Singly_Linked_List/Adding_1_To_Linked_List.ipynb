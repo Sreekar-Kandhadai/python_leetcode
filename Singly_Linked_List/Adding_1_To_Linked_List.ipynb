{
  "nbformat": 4,
  "nbformat_minor": 0,
  "metadata": {
    "colab": {
      "provenance": [],
      "authorship_tag": "ABX9TyPxzSCgIeUCrFkg3iLfdNUA",
      "include_colab_link": true
    },
    "kernelspec": {
      "name": "python3",
      "display_name": "Python 3"
    },
    "language_info": {
      "name": "python"
    }
  },
  "cells": [
    {
      "cell_type": "markdown",
      "metadata": {
        "id": "view-in-github",
        "colab_type": "text"
      },
      "source": [
        "<a href=\"https://colab.research.google.com/github/Sreekar-Kandhadai/python_leetcode/blob/main/Singly_Linked_List/Adding_1_To_Linked_List.ipynb\" target=\"_parent\"><img src=\"https://colab.research.google.com/assets/colab-badge.svg\" alt=\"Open In Colab\"/></a>"
      ]
    },
    {
      "cell_type": "code",
      "execution_count": null,
      "metadata": {
        "id": "aB8I71DB0Y-g"
      },
      "outputs": [],
      "source": [
        "Adding 1 0r a number to a linked list"
      ]
    },
    {
      "cell_type": "code",
      "source": [
        "class ListNode:\n",
        "\n",
        "  def __init__(self,value):\n",
        "\n",
        "    self.value=value\n",
        "    self.next=None\n",
        "\n",
        "class Solution:\n",
        "\n",
        "  def addNumber(self,head):\n",
        "\n",
        "    prev=None\n",
        "    current=head\n",
        "\n",
        "    while current:\n",
        "      next_node=current.next\n",
        "      current.next=prev\n",
        "      prev=current\n",
        "      current=next_node\n",
        "\n",
        "    carry=1\n",
        "    current=prev\n",
        "\n",
        "    while current:\n",
        "\n",
        "      temp=current.value+carry\n",
        "\n",
        "      if temp >=10:\n",
        "        current.value=temp%10\n",
        "        carry=temp//10\n",
        "\n",
        "      else:\n",
        "        current.value=temp\n",
        "        carry=0\n",
        "\n",
        "      if not current.next:\n",
        "        if carry:\n",
        "          new_node=ListNode(carry)\n",
        "          current.next=new_node\n",
        "          carry=0\n",
        "\n",
        "      current=current.next\n",
        "\n",
        "    current=prev\n",
        "    prev=None\n",
        "\n",
        "    while current:\n",
        "      next_node=current.next\n",
        "      current.next=prev\n",
        "      prev=current\n",
        "      current=next_node\n",
        "\n",
        "    return prev\n",
        "\n",
        "  def print_list(self,head):\n",
        "\n",
        "    while head:\n",
        "\n",
        "      print(head.value,end=' -> ')\n",
        "      head=head.next\n",
        "\n",
        "    print('None')\n",
        "\n",
        "\n",
        "\n",
        "l1=ListNode(4)\n",
        "l1.next=ListNode(5)\n",
        "l1.next.next=ListNode(6)\n",
        "\n",
        "s=Solution()\n",
        "\n",
        "result=s.addNumber(l1)\n",
        "\n",
        "s.print_list(result)\n",
        "\n",
        "\n",
        "\n",
        "\n"
      ],
      "metadata": {
        "colab": {
          "base_uri": "https://localhost:8080/"
        },
        "id": "fSap38DL0Zi9",
        "outputId": "ba961526-d350-4f42-b440-1155502371d9"
      },
      "execution_count": 4,
      "outputs": [
        {
          "output_type": "stream",
          "name": "stdout",
          "text": [
            "1 -> 4 -> 5 -> 6 -> None\n"
          ]
        }
      ]
    }
  ]
}