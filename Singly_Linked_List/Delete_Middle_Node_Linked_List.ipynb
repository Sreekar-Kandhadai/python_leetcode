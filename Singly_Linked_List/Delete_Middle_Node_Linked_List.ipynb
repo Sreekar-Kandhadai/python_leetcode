{
  "nbformat": 4,
  "nbformat_minor": 0,
  "metadata": {
    "colab": {
      "provenance": [],
      "authorship_tag": "ABX9TyP8SaMTfWtGnvm+ys50bzrs",
      "include_colab_link": true
    },
    "kernelspec": {
      "name": "python3",
      "display_name": "Python 3"
    },
    "language_info": {
      "name": "python"
    }
  },
  "cells": [
    {
      "cell_type": "markdown",
      "metadata": {
        "id": "view-in-github",
        "colab_type": "text"
      },
      "source": [
        "<a href=\"https://colab.research.google.com/github/Sreekar-Kandhadai/python_leetcode/blob/main/Singly_Linked_List/Delete_Middle_Node_Linked_List.ipynb\" target=\"_parent\"><img src=\"https://colab.research.google.com/assets/colab-badge.svg\" alt=\"Open In Colab\"/></a>"
      ]
    },
    {
      "cell_type": "code",
      "execution_count": 1,
      "metadata": {
        "colab": {
          "base_uri": "https://localhost:8080/"
        },
        "id": "Py9RKB3fXB_7",
        "outputId": "73cea0e9-e925-4c64-ec8f-1eacd07304b7"
      },
      "outputs": [
        {
          "output_type": "stream",
          "name": "stdout",
          "text": [
            "1 -> 2 -> 4 -> 5 -> None\n"
          ]
        }
      ],
      "source": [
        "from typing import Optional\n",
        "\n",
        "# Definition for singly-linked list.\n",
        "class ListNode:\n",
        "    def __init__(self, val=0, next=None):\n",
        "        self.val = val\n",
        "        self.next = next\n",
        "\n",
        "class Solution:\n",
        "    def deleteMiddle(self, head: Optional[ListNode]) -> Optional[ListNode]:\n",
        "        if not head or not head.next:\n",
        "            return None\n",
        "\n",
        "        fast = head\n",
        "        slow = head\n",
        "        prev = None\n",
        "\n",
        "        while fast and fast.next:\n",
        "            fast = fast.next.next\n",
        "            prev = slow\n",
        "            slow = slow.next\n",
        "\n",
        "        prev.next = slow.next\n",
        "        return head\n",
        "\n",
        "# Helper function to create a linked list from a list\n",
        "def create_linked_list(lst):\n",
        "    if not lst:\n",
        "        return None\n",
        "    head = ListNode(lst[0])\n",
        "    current = head\n",
        "    for val in lst[1:]:\n",
        "        current.next = ListNode(val)\n",
        "        current = current.next\n",
        "    return head\n",
        "\n",
        "# Helper function to print a linked list\n",
        "def print_linked_list(head):\n",
        "    current = head\n",
        "    while current:\n",
        "        print(current.val, end=\" -> \")\n",
        "        current = current.next\n",
        "    print(\"None\")\n",
        "\n",
        "# Example usage\n",
        "lst = [1, 2, 3, 4, 5]\n",
        "head = create_linked_list(lst)\n",
        "solution = Solution()\n",
        "new_head = solution.deleteMiddle(head)\n",
        "print_linked_list(new_head)\n"
      ]
    }
  ]
}