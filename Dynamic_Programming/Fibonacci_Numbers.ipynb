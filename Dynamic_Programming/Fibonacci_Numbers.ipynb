{
  "nbformat": 4,
  "nbformat_minor": 0,
  "metadata": {
    "colab": {
      "provenance": [],
      "authorship_tag": "ABX9TyM7FZgfqjy8tgrClqm1zs9i",
      "include_colab_link": true
    },
    "kernelspec": {
      "name": "python3",
      "display_name": "Python 3"
    },
    "language_info": {
      "name": "python"
    }
  },
  "cells": [
    {
      "cell_type": "markdown",
      "metadata": {
        "id": "view-in-github",
        "colab_type": "text"
      },
      "source": [
        "<a href=\"https://colab.research.google.com/github/Sreekar-Kandhadai/python_leetcode/blob/main/Dynamic_Programming/Fibonacci_Numbers.ipynb\" target=\"_parent\"><img src=\"https://colab.research.google.com/assets/colab-badge.svg\" alt=\"Open In Colab\"/></a>"
      ]
    },
    {
      "cell_type": "code",
      "execution_count": null,
      "metadata": {
        "id": "l0Dwk-q0oQeP"
      },
      "outputs": [],
      "source": [
        "Fibonacci numbers"
      ]
    },
    {
      "cell_type": "code",
      "source": [
        "# using tabular method i.e is Bottom up Approach\n",
        "# Time Complexity - O(N) and Space Complexity - O(1)\n",
        "\n",
        "class Solution:\n",
        "\n",
        "  def fib(self,n):\n",
        "\n",
        "    if n==1 or n==0:\n",
        "      return n\n",
        "\n",
        "    prev=1\n",
        "    prev1=0\n",
        "\n",
        "    for i in range(2,n+1):\n",
        "\n",
        "      curr=prev+prev1\n",
        "      prev1=prev\n",
        "      prev=curr\n",
        "\n",
        "    return curr\n",
        "\n",
        "s=Solution()\n",
        "\n",
        "print(s.fib(4))\n",
        "\n",
        "\n",
        "\n"
      ],
      "metadata": {
        "colab": {
          "base_uri": "https://localhost:8080/"
        },
        "id": "PPEqePzYoUtf",
        "outputId": "6c472525-3ef6-4b29-82ee-2d6b95b851c2"
      },
      "execution_count": 2,
      "outputs": [
        {
          "output_type": "stream",
          "name": "stdout",
          "text": [
            "3\n"
          ]
        }
      ]
    },
    {
      "cell_type": "code",
      "source": [
        "# using tabular method i.e is Bottom up Approach\n",
        "# Time Complexity - O(N) and Space Complexity - O(N)\n",
        "\n",
        "class Solution:\n",
        "\n",
        "  def fib(self,n):\n",
        "\n",
        "    dp=[-1]*(n+1)\n",
        "\n",
        "    dp[0]=0\n",
        "    dp[1]=1\n",
        "\n",
        "    for i in range(2,n+1):\n",
        "      dp[i]=dp[i-1]+dp[i-2]\n",
        "\n",
        "    return dp[n]\n",
        "\n",
        "\n",
        "s=Solution()\n",
        "\n",
        "print(s.fib(4))\n",
        "\n",
        "\n",
        "\n",
        ""
      ],
      "metadata": {
        "colab": {
          "base_uri": "https://localhost:8080/"
        },
        "id": "wrYqkyORtNQU",
        "outputId": "cc630223-c8a4-4a1f-92e0-fa50c12667bf"
      },
      "execution_count": 3,
      "outputs": [
        {
          "output_type": "stream",
          "name": "stdout",
          "text": [
            "3\n"
          ]
        }
      ]
    },
    {
      "cell_type": "code",
      "source": [
        "# using Memoization method i.e is Top Down Approach\n",
        "\n",
        "# Time complexity - O(N) and Space complexity - O(N)+O(N)\n",
        "\n",
        "class Solution:\n",
        "\n",
        "  def fib(self,n,dp):\n",
        "\n",
        "    if n<=1:\n",
        "      return n\n",
        "\n",
        "    if dp[n]!=-1:\n",
        "      return dp[n]\n",
        "\n",
        "    dp[n]=self.fib(n-1,dp)+self.fib(n-2,dp)\n",
        "\n",
        "    return dp[n]\n",
        "\n",
        "s=Solution()\n",
        "n=4\n",
        "dp=[-1]*(n+1)\n",
        "\n",
        "print(s.fib(n,dp))"
      ],
      "metadata": {
        "colab": {
          "base_uri": "https://localhost:8080/"
        },
        "id": "M-ynJyoCuQDC",
        "outputId": "af0680c1-b0dd-4c0f-9fc6-1bb3b6fd1e6a"
      },
      "execution_count": 4,
      "outputs": [
        {
          "output_type": "stream",
          "name": "stdout",
          "text": [
            "3\n"
          ]
        }
      ]
    }
  ]
}