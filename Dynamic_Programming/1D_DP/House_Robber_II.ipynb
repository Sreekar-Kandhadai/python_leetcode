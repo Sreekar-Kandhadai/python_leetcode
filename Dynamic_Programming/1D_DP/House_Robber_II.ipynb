{
  "nbformat": 4,
  "nbformat_minor": 0,
  "metadata": {
    "colab": {
      "provenance": [],
      "authorship_tag": "ABX9TyNyFD+QbGLXGT4uc4cCbhhm",
      "include_colab_link": true
    },
    "kernelspec": {
      "name": "python3",
      "display_name": "Python 3"
    },
    "language_info": {
      "name": "python"
    }
  },
  "cells": [
    {
      "cell_type": "markdown",
      "metadata": {
        "id": "view-in-github",
        "colab_type": "text"
      },
      "source": [
        "<a href=\"https://colab.research.google.com/github/Sreekar-Kandhadai/python_leetcode/blob/main/Dynamic_Programming/1D_DP/House_Robber_II.ipynb\" target=\"_parent\"><img src=\"https://colab.research.google.com/assets/colab-badge.svg\" alt=\"Open In Colab\"/></a>"
      ]
    },
    {
      "cell_type": "code",
      "execution_count": null,
      "metadata": {
        "id": "BxxRSMpshwLB"
      },
      "outputs": [],
      "source": [
        "House Robber II - Leetcode 213"
      ]
    },
    {
      "cell_type": "code",
      "source": [
        "# Tabularization Method\n",
        "\n",
        "# Time Complexity O(N) + O(N)=O(N) and Space Complexity O(1)\n",
        "\n",
        "class Solution:\n",
        "\n",
        "  def robber(self,nums):\n",
        "\n",
        "    n=len(nums)\n",
        "\n",
        "    if n==1:\n",
        "      return nums[0]\n",
        "    if n==2:\n",
        "      return max(nums)\n",
        "\n",
        "    prev1=nums[0]\n",
        "    prev2=0\n",
        "    mStep1=float('-inf')\n",
        "\n",
        "    for i in range(1,n-1):\n",
        "\n",
        "      adj1=prev1\n",
        "\n",
        "      if i==1:\n",
        "        adj2=nums[i]\n",
        "\n",
        "      if i > 1:\n",
        "        adj2=prev2+nums[i]\n",
        "\n",
        "      mStep1=max(adj1,adj2)\n",
        "\n",
        "\n",
        "      prev2=prev1\n",
        "      prev1=mStep1\n",
        "\n",
        "    prev3=nums[1]\n",
        "    prev4=0\n",
        "    mStep2=float('-inf')\n",
        "\n",
        "    for i in range(2,n):\n",
        "      adj1=prev3\n",
        "\n",
        "      if i==2:\n",
        "        adj2=nums[i]\n",
        "\n",
        "      if i > 2:\n",
        "        adj2=prev4+nums[i]\n",
        "\n",
        "      mStep2=max(adj1,adj2)\n",
        "\n",
        "      prev4=prev3\n",
        "      prev3=mStep2\n",
        "\n",
        "    return max(mStep1,mStep2)\n",
        "\n",
        "s=Solution()\n",
        "\n",
        "nums=[1,2,1,1]\n",
        "\n",
        "print(s.robber(nums))"
      ],
      "metadata": {
        "colab": {
          "base_uri": "https://localhost:8080/"
        },
        "id": "g0O70ZESh523",
        "outputId": "ac383972-29e4-4010-e80e-f290891fc619"
      },
      "execution_count": null,
      "outputs": [
        {
          "output_type": "stream",
          "name": "stdout",
          "text": [
            "3\n"
          ]
        }
      ]
    },
    {
      "cell_type": "code",
      "source": [
        "# Tabularization Method\n",
        "\n",
        "# Time Complexity O(N)  and Space Complexity O(N)\n",
        "\n",
        "\n",
        "class Solution:\n",
        "\n",
        "  def houseRobbery(self,nums):\n",
        "\n",
        "    n=len(nums)\n",
        "\n",
        "    if n==1:\n",
        "      return nums[0]\n",
        "    if n==2:\n",
        "      return max(nums)\n",
        "\n",
        "    dp=[-1]*(n-1)\n",
        "    dp[0]=nums[0]\n",
        "\n",
        "    for i in range(1,n-1):\n",
        "\n",
        "      if i > 1:\n",
        "        dp[i]=max(dp[i-1],dp[i-2]+nums[i])\n",
        "\n",
        "      if i==1:\n",
        "        dp[i]=max(dp[i-1],nums[i])\n",
        "\n",
        "    ans1=dp[n-2]\n",
        "\n",
        "    dp=[-1]*(n)\n",
        "    dp[1]=nums[1]\n",
        "\n",
        "    for i in range(2,n):\n",
        "\n",
        "      if i > 2:\n",
        "        dp[i]=max(dp[i-1],dp[i-2]+nums[i])\n",
        "\n",
        "      if i==2:\n",
        "        dp[i]=max(dp[i-1],nums[i])\n",
        "\n",
        "    ans2=dp[n-1]\n",
        "\n",
        "    return max(ans1,ans2)\n",
        "\n",
        "\n",
        "\n",
        "s=Solution()\n",
        "\n",
        "nums=[1,2,3,1]\n",
        "\n",
        "print(s.houseRobbery(nums))\n",
        "\n",
        "\n",
        "\n"
      ],
      "metadata": {
        "colab": {
          "base_uri": "https://localhost:8080/"
        },
        "id": "lmLfTYX3qc42",
        "outputId": "6c484320-d0ee-4d6a-bacc-d1c6c2f48c35"
      },
      "execution_count": null,
      "outputs": [
        {
          "output_type": "stream",
          "name": "stdout",
          "text": [
            "4\n"
          ]
        }
      ]
    }
  ]
}