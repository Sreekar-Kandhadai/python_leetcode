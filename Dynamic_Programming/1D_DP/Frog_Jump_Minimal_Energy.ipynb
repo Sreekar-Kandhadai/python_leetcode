{
  "nbformat": 4,
  "nbformat_minor": 0,
  "metadata": {
    "colab": {
      "provenance": [],
      "authorship_tag": "ABX9TyNZBqfwbBKNShnRwXCbrIJD",
      "include_colab_link": true
    },
    "kernelspec": {
      "name": "python3",
      "display_name": "Python 3"
    },
    "language_info": {
      "name": "python"
    }
  },
  "cells": [
    {
      "cell_type": "markdown",
      "metadata": {
        "id": "view-in-github",
        "colab_type": "text"
      },
      "source": [
        "<a href=\"https://colab.research.google.com/github/Sreekar-Kandhadai/python_leetcode/blob/main/Dynamic_Programming/1D_DP/Frog_Jump_Minimal_Energy.ipynb\" target=\"_parent\"><img src=\"https://colab.research.google.com/assets/colab-badge.svg\" alt=\"Open In Colab\"/></a>"
      ]
    },
    {
      "cell_type": "code",
      "execution_count": null,
      "metadata": {
        "id": "efnejOIysslR"
      },
      "outputs": [],
      "source": [
        "Frog Jump with minimal energy"
      ]
    },
    {
      "cell_type": "code",
      "source": [
        "# using Tabularization method\n",
        "\n",
        "# Time Complexity - O(N) and Space Complexity - O(1)\n",
        "\n",
        "\n",
        "class Solution:\n",
        "\n",
        "  def minEnergy(self,height):\n",
        "\n",
        "    n=len(height)\n",
        "\n",
        "    if n==1:\n",
        "      return 0\n",
        "\n",
        "    prev1=0\n",
        "    prev2=0\n",
        "\n",
        "    for i in range(1,n):\n",
        "\n",
        "      jumpTwo=float('inf')\n",
        "\n",
        "      jumpOne=prev1+abs(height[i]-height[i-1])\n",
        "\n",
        "      if i>1:\n",
        "        jumpTwo=prev2+abs(height[i]-height[i-2])\n",
        "\n",
        "      curr=min(jumpOne,jumpTwo)\n",
        "      prev2=prev1\n",
        "      prev1=curr\n",
        "\n",
        "    return curr\n",
        "\n",
        "s=Solution()\n",
        "\n",
        "heights = [20, 30, 40, 20]\n",
        "\n",
        "print(s.minEnergy(heights))"
      ],
      "metadata": {
        "colab": {
          "base_uri": "https://localhost:8080/"
        },
        "id": "WE5mcq8Rs0M_",
        "outputId": "3c9003a4-5faa-4100-a02b-2e788af85480"
      },
      "execution_count": 1,
      "outputs": [
        {
          "output_type": "stream",
          "name": "stdout",
          "text": [
            "20\n"
          ]
        }
      ]
    },
    {
      "cell_type": "code",
      "source": [
        "# using Tabularization method\n",
        "\n",
        "# Time Complexity - O(N) and Space Complexity - O(N)\n",
        "\n",
        "class Solution:\n",
        "\n",
        "  def minEnergy(self,height):\n",
        "\n",
        "    n=len(height)\n",
        "\n",
        "    if n==1:\n",
        "      return 0\n",
        "\n",
        "    dp=[-1]*(n)\n",
        "\n",
        "    dp[0]=0\n",
        "\n",
        "    for i in range(1,n):\n",
        "\n",
        "      jumpTwo=float('inf')\n",
        "\n",
        "      jumpOne=dp[i-1]+abs(height[i]-height[i-1])\n",
        "\n",
        "      if i > 1:\n",
        "\n",
        "        jumpTwo=dp[i-2]+abs(height[i]-height[i-2])\n",
        "\n",
        "      dp[i]=min(jumpOne,jumpTwo)\n",
        "\n",
        "\n",
        "    return dp[n-1]\n",
        "\n",
        "s=Solution()\n",
        "\n",
        "heights = [20, 30, 40, 20]\n",
        "\n",
        "print(s.minEnergy(heights))\n",
        "\n"
      ],
      "metadata": {
        "colab": {
          "base_uri": "https://localhost:8080/"
        },
        "id": "uIud8mDiuqE9",
        "outputId": "b1dec57c-4a41-4e14-e27a-39592bb51b69"
      },
      "execution_count": 5,
      "outputs": [
        {
          "output_type": "stream",
          "name": "stdout",
          "text": [
            "20\n"
          ]
        }
      ]
    }
  ]
}