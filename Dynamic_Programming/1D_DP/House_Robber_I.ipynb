{
  "nbformat": 4,
  "nbformat_minor": 0,
  "metadata": {
    "colab": {
      "provenance": [],
      "authorship_tag": "ABX9TyOpPZh/OiMepZ3O+KIeWsMc",
      "include_colab_link": true
    },
    "kernelspec": {
      "name": "python3",
      "display_name": "Python 3"
    },
    "language_info": {
      "name": "python"
    }
  },
  "cells": [
    {
      "cell_type": "markdown",
      "metadata": {
        "id": "view-in-github",
        "colab_type": "text"
      },
      "source": [
        "<a href=\"https://colab.research.google.com/github/Sreekar-Kandhadai/python_leetcode/blob/main/Dynamic_Programming/1D_DP/House_Robber_I.ipynb\" target=\"_parent\"><img src=\"https://colab.research.google.com/assets/colab-badge.svg\" alt=\"Open In Colab\"/></a>"
      ]
    },
    {
      "cell_type": "code",
      "execution_count": null,
      "metadata": {
        "id": "AO3dyD-_yqs-"
      },
      "outputs": [],
      "source": [
        "House Robber I (Leetcode 198)"
      ]
    },
    {
      "cell_type": "code",
      "source": [
        "# Tabularization method\n",
        "\n",
        "# Time Complexity - O(N) and Space Complexity - O(1)\n",
        "\n",
        "\n",
        "class Solution:\n",
        "\n",
        "  def houseRobber(self,nums):\n",
        "\n",
        "    n=len(nums)\n",
        "\n",
        "    if n==1:\n",
        "      return nums[0]\n",
        "\n",
        "    mStep=float('-inf')\n",
        "\n",
        "    prev1=nums[0]\n",
        "    prev2=0\n",
        "    adj2=0\n",
        "\n",
        "    for i in range(1,n):\n",
        "\n",
        "      adj1=prev1\n",
        "\n",
        "      if i==1:\n",
        "        adj2=nums[i]\n",
        "      if i >1:\n",
        "        adj2=prev2+nums[i]\n",
        "\n",
        "      mStep=max(adj1,adj2)\n",
        "\n",
        "      prev2=prev1\n",
        "      prev1=mStep\n",
        "\n",
        "    return mStep\n",
        "\n",
        "s=Solution()\n",
        "\n",
        "nums = [1,2,3,1]\n",
        "\n",
        "print(s.houseRobber(nums))\n"
      ],
      "metadata": {
        "colab": {
          "base_uri": "https://localhost:8080/"
        },
        "id": "-dgvlmAjyxL0",
        "outputId": "26a148ad-c5ee-47ef-a155-d5cdee10e931"
      },
      "execution_count": 1,
      "outputs": [
        {
          "output_type": "stream",
          "name": "stdout",
          "text": [
            "4\n"
          ]
        }
      ]
    },
    {
      "cell_type": "code",
      "source": [
        "# Tabularization method\n",
        "\n",
        "# Time Complexity - O(N) and Space Complexity - O(N)\n",
        "\n",
        "class Solution:\n",
        "\n",
        "  def houseRobber(self,nums):\n",
        "    n=len(nums)\n",
        "\n",
        "    if n==1:\n",
        "      return nums[0]\n",
        "\n",
        "    dp=[-1]*(n)\n",
        "\n",
        "    dp[0]=nums[0]\n",
        "    mStep=float('-inf')\n",
        "\n",
        "    for i in range(1,n):\n",
        "\n",
        "      if i > 1:\n",
        "        dp[i]=max(dp[i-1],dp[i-2]+nums[i])\n",
        "\n",
        "      if i==1:\n",
        "        dp[i]=max(dp[i-1],nums[i])\n",
        "\n",
        "    return dp[n-1]\n",
        "\n",
        "s=Solution()\n",
        "\n",
        "nums = [1,2,3,1]\n",
        "\n",
        "print(s.houseRobber(nums))\n"
      ],
      "metadata": {
        "colab": {
          "base_uri": "https://localhost:8080/"
        },
        "id": "oMhRBWGIz_jO",
        "outputId": "a24ebb2f-8b65-4575-c94a-a4d3f7f0263a"
      },
      "execution_count": 4,
      "outputs": [
        {
          "output_type": "stream",
          "name": "stdout",
          "text": [
            "4\n"
          ]
        }
      ]
    },
    {
      "cell_type": "code",
      "source": [
        "# Memorization method\n",
        "\n",
        "# Time Complexity - O(N) and Space Complexity - O(N)[Recursive Stack Space] + O(N)\n",
        "\n",
        "\n",
        "class Solution:\n",
        "\n",
        "  def houseRobber(self,nums,dp,ind):\n",
        "\n",
        "    if ind==0:\n",
        "      return nums[0]\n",
        "\n",
        "    if dp[ind]!=-1:\n",
        "      return dp[ind]\n",
        "\n",
        "    temp1=self.houseRobber(nums,dp,ind-1)\n",
        "    temp2=nums[ind]\n",
        "    if ind > 1:\n",
        "      temp2=self.houseRobber(nums,dp,ind-2)+nums[ind]\n",
        "\n",
        "    dp[ind]=max(temp1,temp2)\n",
        "\n",
        "    return dp[ind]\n",
        "\n",
        "s=Solution()\n",
        "\n",
        "nums = [2,7,9,3,1]\n",
        "\n",
        "n=len(nums)\n",
        "\n",
        "dp=[-1]*(n)\n",
        "\n",
        "print(s.houseRobber(nums,dp,n-1))\n",
        "\n",
        "\n"
      ],
      "metadata": {
        "colab": {
          "base_uri": "https://localhost:8080/"
        },
        "id": "m1_-PEvX2FGb",
        "outputId": "032023a0-63f1-45f1-b3d8-919641a9498c"
      },
      "execution_count": 8,
      "outputs": [
        {
          "output_type": "stream",
          "name": "stdout",
          "text": [
            "12\n"
          ]
        }
      ]
    }
  ]
}