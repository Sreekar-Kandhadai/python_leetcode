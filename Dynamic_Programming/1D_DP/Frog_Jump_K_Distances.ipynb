{
  "nbformat": 4,
  "nbformat_minor": 0,
  "metadata": {
    "colab": {
      "provenance": [],
      "authorship_tag": "ABX9TyMhXwBQyCQ8Bd1f7Uee346z",
      "include_colab_link": true
    },
    "kernelspec": {
      "name": "python3",
      "display_name": "Python 3"
    },
    "language_info": {
      "name": "python"
    }
  },
  "cells": [
    {
      "cell_type": "markdown",
      "metadata": {
        "id": "view-in-github",
        "colab_type": "text"
      },
      "source": [
        "<a href=\"https://colab.research.google.com/github/Sreekar-Kandhadai/python_leetcode/blob/main/Dynamic_Programming/1D_DP/Frog_Jump_K_Distances.ipynb\" target=\"_parent\"><img src=\"https://colab.research.google.com/assets/colab-badge.svg\" alt=\"Open In Colab\"/></a>"
      ]
    },
    {
      "cell_type": "code",
      "execution_count": null,
      "metadata": {
        "id": "9m6GncxKCOrD"
      },
      "outputs": [],
      "source": [
        "Frog Jump with K distances"
      ]
    },
    {
      "cell_type": "code",
      "source": [
        "# Tabularization method\n",
        "\n",
        "# Time Complexity - O(N*K) and Space Complexity - O(N)\n",
        "\n",
        "\n",
        "class Solution:\n",
        "\n",
        "  def minEnergy(self,arr,k,dp):\n",
        "\n",
        "    n=len(arr)\n",
        "\n",
        "    if n==1:\n",
        "      return 0\n",
        "\n",
        "    dp[0]=0\n",
        "\n",
        "    for i in range(1,n):\n",
        "\n",
        "      mSteps=float('inf')\n",
        "\n",
        "      for j in range(1,k+1):\n",
        "\n",
        "        if i-j>=0:\n",
        "\n",
        "          jump=dp[i-j]+abs(arr[i]-arr[i-j])\n",
        "\n",
        "          mSteps=min(mSteps,jump)\n",
        "\n",
        "      dp[i]=mSteps\n",
        "\n",
        "    return dp[n-1]\n",
        "\n",
        "s=Solution()\n",
        "\n",
        "k = 3\n",
        "arr= [10, 30, 40, 50, 20]\n",
        "\n",
        "n=len(arr)\n",
        "\n",
        "dp=[-1]*n\n",
        "\n",
        "print(s.minEnergy(arr,k,dp))\n"
      ],
      "metadata": {
        "colab": {
          "base_uri": "https://localhost:8080/"
        },
        "id": "ERE7DrcACZMM",
        "outputId": "6d52d129-287f-4c5e-ef7d-f3f2966d9dbe"
      },
      "execution_count": 4,
      "outputs": [
        {
          "output_type": "stream",
          "name": "stdout",
          "text": [
            "30\n"
          ]
        }
      ]
    }
  ]
}