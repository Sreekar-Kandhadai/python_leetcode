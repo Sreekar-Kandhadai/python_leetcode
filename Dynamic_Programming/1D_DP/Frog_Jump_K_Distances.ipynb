{
  "nbformat": 4,
  "nbformat_minor": 0,
  "metadata": {
    "colab": {
      "provenance": [],
      "authorship_tag": "ABX9TyPl891ajxUjCwS6N3Twk2qw",
      "include_colab_link": true
    },
    "kernelspec": {
      "name": "python3",
      "display_name": "Python 3"
    },
    "language_info": {
      "name": "python"
    }
  },
  "cells": [
    {
      "cell_type": "markdown",
      "metadata": {
        "id": "view-in-github",
        "colab_type": "text"
      },
      "source": [
        "<a href=\"https://colab.research.google.com/github/Sreekar-Kandhadai/python_leetcode/blob/main/Dynamic_Programming/1D_DP/Frog_Jump_K_Distances.ipynb\" target=\"_parent\"><img src=\"https://colab.research.google.com/assets/colab-badge.svg\" alt=\"Open In Colab\"/></a>"
      ]
    },
    {
      "cell_type": "code",
      "execution_count": null,
      "metadata": {
        "id": "9m6GncxKCOrD"
      },
      "outputs": [],
      "source": [
        "Frog Jump with K distances"
      ]
    },
    {
      "cell_type": "code",
      "source": [
        "# Tabularization method\n",
        "\n",
        "# Time Complexity - O(N*K) and Space Complexity - O(N)\n",
        "\n",
        "\n",
        "class Solution:\n",
        "\n",
        "  def minEnergy(self,arr,k,dp):\n",
        "\n",
        "    n=len(arr)\n",
        "\n",
        "    if n==1:\n",
        "      return 0\n",
        "\n",
        "    dp[0]=0\n",
        "\n",
        "    for i in range(1,n):\n",
        "\n",
        "      mSteps=float('inf')\n",
        "\n",
        "      for j in range(1,k+1):\n",
        "\n",
        "        if i-j>=0:\n",
        "\n",
        "          jump=dp[i-j]+abs(arr[i]-arr[i-j])\n",
        "\n",
        "          mSteps=min(mSteps,jump)\n",
        "\n",
        "      dp[i]=mSteps\n",
        "\n",
        "    return dp[n-1]\n",
        "\n",
        "s=Solution()\n",
        "\n",
        "k = 3\n",
        "arr= [10, 30, 40, 50, 20]\n",
        "\n",
        "n=len(arr)\n",
        "\n",
        "dp=[-1]*n\n",
        "\n",
        "print(s.minEnergy(arr,k,dp))\n"
      ],
      "metadata": {
        "colab": {
          "base_uri": "https://localhost:8080/"
        },
        "id": "ERE7DrcACZMM",
        "outputId": "6d52d129-287f-4c5e-ef7d-f3f2966d9dbe"
      },
      "execution_count": 4,
      "outputs": [
        {
          "output_type": "stream",
          "name": "stdout",
          "text": [
            "30\n"
          ]
        }
      ]
    },
    {
      "cell_type": "code",
      "source": [
        "# Memorization method\n",
        "\n",
        "# Time Complexity - O(N*K) and Space Complexity - O(N)[Recursive Stack Space] +O(N)\n",
        "\n",
        "class Solution:\n",
        "\n",
        "  def minEnergy(self,arr,dp,k,ind):\n",
        "\n",
        "    if ind==0:\n",
        "      return 0\n",
        "\n",
        "    if dp[ind]!=-1:\n",
        "      return dp[ind]\n",
        "\n",
        "    mmStep=float('inf')\n",
        "\n",
        "    for i in range(1,k+1):\n",
        "\n",
        "      if ind-i >=0:\n",
        "\n",
        "        jump=self.minEnergy(arr,dp,k,ind-i)+abs(arr[ind]-arr[ind-i])\n",
        "\n",
        "        mmStep=min(jump,mmStep)\n",
        "\n",
        "    dp[ind]=mmStep\n",
        "\n",
        "    return dp[ind]\n",
        "\n",
        "s=Solution()\n",
        "\n",
        "k = 3\n",
        "\n",
        "arr= [10, 30, 40, 50, 20]\n",
        "\n",
        "n=len(arr)\n",
        "\n",
        "dp=[-1]*n\n",
        "\n",
        "print(s.minEnergy(arr,dp,k,n-1))\n",
        "\n",
        "\n",
        "\n"
      ],
      "metadata": {
        "colab": {
          "base_uri": "https://localhost:8080/"
        },
        "id": "mJmImeU3GIe6",
        "outputId": "8002b0c8-e3ab-49d0-b7be-f3370eb054ec"
      },
      "execution_count": 5,
      "outputs": [
        {
          "output_type": "stream",
          "name": "stdout",
          "text": [
            "30\n"
          ]
        }
      ]
    }
  ]
}