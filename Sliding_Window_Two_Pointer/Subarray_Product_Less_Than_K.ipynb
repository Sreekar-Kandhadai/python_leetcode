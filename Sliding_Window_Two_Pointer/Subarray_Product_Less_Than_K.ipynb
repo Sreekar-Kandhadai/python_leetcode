{
  "nbformat": 4,
  "nbformat_minor": 0,
  "metadata": {
    "colab": {
      "provenance": [],
      "authorship_tag": "ABX9TyO5W0IeLQYMmNZDhiDHguYS",
      "include_colab_link": true
    },
    "kernelspec": {
      "name": "python3",
      "display_name": "Python 3"
    },
    "language_info": {
      "name": "python"
    }
  },
  "cells": [
    {
      "cell_type": "markdown",
      "metadata": {
        "id": "view-in-github",
        "colab_type": "text"
      },
      "source": [
        "<a href=\"https://colab.research.google.com/github/Sreekar-Kandhadai/python_leetcode/blob/main/Sliding_Window_Two_Pointer/Subarray_Product_Less_Than_K.ipynb\" target=\"_parent\"><img src=\"https://colab.research.google.com/assets/colab-badge.svg\" alt=\"Open In Colab\"/></a>"
      ]
    },
    {
      "cell_type": "code",
      "execution_count": null,
      "metadata": {
        "id": "u4oUu6Dox4sr"
      },
      "outputs": [],
      "source": [
        "Given an array of integers nums and an integer k, return the number of contiguous subarrays\n",
        "where the product of all the elements in the subarray is strictly less than k.\n",
        "\n",
        "Example 1:\n",
        "\n",
        "Input: nums = [10,5,2,6], k = 100\n",
        "Output: 8\n",
        "Explanation: The 8 subarrays that have product less than 100 are:\n",
        "[10], [5], [2], [6], [10, 5], [5, 2], [2, 6], [5, 2, 6]\n",
        "Note that [10, 5, 2] is not included as the product of 100 is not strictly less than k.\n",
        "\n",
        "Example 2:\n",
        "\n",
        "Input: nums = [1,2,3], k = 0\n",
        "Output: 0"
      ]
    },
    {
      "cell_type": "code",
      "source": [
        "class Solution:\n",
        "    def numSubarrayProductLessThanK(self, nums, k):\n",
        "\n",
        "\n",
        "        left=0\n",
        "        sum=1\n",
        "        cnt=0\n",
        "\n",
        "        for right in range(len(nums)):\n",
        "\n",
        "            sum*=nums[right]\n",
        "\n",
        "            while sum >=k and left <=right:\n",
        "                sum=sum//nums[left]\n",
        "                left=left+1\n",
        "\n",
        "            if sum < k:\n",
        "                cnt+=right-left+1\n",
        "\n",
        "\n",
        "        return cnt\n",
        "\n",
        "s=Solution()\n",
        "\n",
        "nums = [10,5,2,6]\n",
        "k = 100\n",
        "\n",
        "print(s.numSubarrayProductLessThanK(nums,k))"
      ],
      "metadata": {
        "colab": {
          "base_uri": "https://localhost:8080/"
        },
        "id": "nuPYaJaIyJFx",
        "outputId": "7be2b2ee-7313-47d5-f656-bb3c9a8d4e4f"
      },
      "execution_count": 2,
      "outputs": [
        {
          "output_type": "stream",
          "name": "stdout",
          "text": [
            "8\n"
          ]
        }
      ]
    }
  ]
}