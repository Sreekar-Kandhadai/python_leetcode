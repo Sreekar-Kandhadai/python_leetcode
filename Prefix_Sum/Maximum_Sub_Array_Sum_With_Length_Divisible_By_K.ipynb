{
  "nbformat": 4,
  "nbformat_minor": 0,
  "metadata": {
    "colab": {
      "provenance": [],
      "authorship_tag": "ABX9TyMZ+lLTVmuJphiP3BC8T0g1",
      "include_colab_link": true
    },
    "kernelspec": {
      "name": "python3",
      "display_name": "Python 3"
    },
    "language_info": {
      "name": "python"
    }
  },
  "cells": [
    {
      "cell_type": "markdown",
      "metadata": {
        "id": "view-in-github",
        "colab_type": "text"
      },
      "source": [
        "<a href=\"https://colab.research.google.com/github/Sreekar-Kandhadai/python_leetcode/blob/main/Prefix_Sum/Maximum_Sub_Array_Sum_With_Length_Divisible_By_K.ipynb\" target=\"_parent\"><img src=\"https://colab.research.google.com/assets/colab-badge.svg\" alt=\"Open In Colab\"/></a>"
      ]
    },
    {
      "cell_type": "code",
      "execution_count": null,
      "metadata": {
        "id": "5ND3mcHZgsmj"
      },
      "outputs": [],
      "source": [
        "You are given an array of integers nums and an integer k.\n",
        "\n",
        "Return the maximum sum of a subarray of nums, such that the size of the subarray is divisible by k.\n",
        "\n",
        "Example 1:\n",
        "\n",
        "Input: nums = [1,2], k = 1\n",
        "\n",
        "Output: 3\n",
        "\n",
        "Explanation:\n",
        "\n",
        "The subarray [1, 2] with sum 3 has length equal to 2 which is divisible by 1.\n",
        "\n",
        "Example 2:\n",
        "\n",
        "Input: nums = [-1,-2,-3,-4,-5], k = 4\n",
        "\n",
        "Output: -10\n",
        "\n",
        "Explanation:\n",
        "\n",
        "The maximum sum subarray is [-1, -2, -3, -4] which has length equal to 4 which is divisible by 4."
      ]
    },
    {
      "cell_type": "code",
      "source": [
        "class Solution:\n",
        "    def maxSubarraySum(self, nums, k) -> int:\n",
        "\n",
        "        prefix_sum = 0\n",
        "        max_sum = float('-inf')\n",
        "        prefix_map = {0: 0}\n",
        "\n",
        "        for i, num in enumerate(nums):\n",
        "            prefix_sum += num\n",
        "            mod = (i + 1) % k\n",
        "\n",
        "            if mod in prefix_map:\n",
        "                max_sum = max(max_sum, prefix_sum- prefix_map[mod])\n",
        "\n",
        "            if mod  not in prefix_map:\n",
        "                prefix_map[mod] = prefix_sum\n",
        "            else:\n",
        "                prefix_map[mod] = min(prefix_map[mod], prefix_sum)\n",
        "\n",
        "        return max_sum\n",
        "\n",
        "s=Solution()\n",
        "\n",
        "nums=[-1,-2,-3,-4,-5]\n",
        "k = 4\n",
        "\n",
        "print(s.maxSubarraySum(nums,k))"
      ],
      "metadata": {
        "colab": {
          "base_uri": "https://localhost:8080/"
        },
        "id": "W6t3vk6Wg89P",
        "outputId": "b54d8909-0c36-4a64-83d7-8691236bac15"
      },
      "execution_count": 1,
      "outputs": [
        {
          "output_type": "stream",
          "name": "stdout",
          "text": [
            "-10\n"
          ]
        }
      ]
    }
  ]
}