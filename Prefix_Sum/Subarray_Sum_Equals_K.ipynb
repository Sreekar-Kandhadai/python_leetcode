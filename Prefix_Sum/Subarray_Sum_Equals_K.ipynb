{
  "nbformat": 4,
  "nbformat_minor": 0,
  "metadata": {
    "colab": {
      "provenance": [],
      "authorship_tag": "ABX9TyMkCHJW6sTW4b8a8mzeF7JX",
      "include_colab_link": true
    },
    "kernelspec": {
      "name": "python3",
      "display_name": "Python 3"
    },
    "language_info": {
      "name": "python"
    }
  },
  "cells": [
    {
      "cell_type": "markdown",
      "metadata": {
        "id": "view-in-github",
        "colab_type": "text"
      },
      "source": [
        "<a href=\"https://colab.research.google.com/github/Sreekar-Kandhadai/python_leetcode/blob/main/Prefix_Sum/Subarray_Sum_Equals_K.ipynb\" target=\"_parent\"><img src=\"https://colab.research.google.com/assets/colab-badge.svg\" alt=\"Open In Colab\"/></a>"
      ]
    },
    {
      "cell_type": "code",
      "execution_count": null,
      "metadata": {
        "id": "7pkhFfa5wG9c"
      },
      "outputs": [],
      "source": [
        "Given an array of integers nums and an integer k, return the total number of subarrays whose sum equals to k.\n",
        "\n",
        "A subarray is a contiguous non-empty sequence of elements within an array\n",
        "\n",
        "Example 1:\n",
        "\n",
        "Input: nums = [1,1,1], k = 2\n",
        "Output: 2\n"
      ]
    },
    {
      "cell_type": "code",
      "source": [
        "class Solution:\n",
        "    def subarraySum(self, nums, k):\n",
        "\n",
        "        map={0:1}\n",
        "\n",
        "        prefix_sum=0\n",
        "        cnt=0\n",
        "\n",
        "        for num in nums:\n",
        "\n",
        "            prefix_sum+=num\n",
        "\n",
        "            if prefix_sum-k in map:\n",
        "\n",
        "                cnt+=map[prefix_sum-k]\n",
        "\n",
        "            if prefix_sum in map:\n",
        "                map[prefix_sum]+=1\n",
        "\n",
        "            else:\n",
        "                map[prefix_sum]=1\n",
        "\n",
        "\n",
        "        return cnt\n",
        "\n",
        "\n",
        "s=Solution()\n",
        "\n",
        "nums = [1,1,1]\n",
        "k = 2\n",
        "\n",
        "print(s.subarraySum(nums,k))"
      ],
      "metadata": {
        "colab": {
          "base_uri": "https://localhost:8080/"
        },
        "id": "SjF0jBXcwVKZ",
        "outputId": "39825415-fed6-4440-ecbe-db0a5693eee1"
      },
      "execution_count": 5,
      "outputs": [
        {
          "output_type": "stream",
          "name": "stdout",
          "text": [
            "2\n"
          ]
        }
      ]
    }
  ]
}