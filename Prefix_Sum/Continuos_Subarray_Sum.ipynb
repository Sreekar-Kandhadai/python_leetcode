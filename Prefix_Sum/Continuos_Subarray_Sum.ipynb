{
  "nbformat": 4,
  "nbformat_minor": 0,
  "metadata": {
    "colab": {
      "provenance": [],
      "authorship_tag": "ABX9TyPryeloMLafjYDTDOEpoaWB",
      "include_colab_link": true
    },
    "kernelspec": {
      "name": "python3",
      "display_name": "Python 3"
    },
    "language_info": {
      "name": "python"
    }
  },
  "cells": [
    {
      "cell_type": "markdown",
      "metadata": {
        "id": "view-in-github",
        "colab_type": "text"
      },
      "source": [
        "<a href=\"https://colab.research.google.com/github/Sreekar-Kandhadai/python_leetcode/blob/main/Prefix_Sum/Continuos_Subarray_Sum.ipynb\" target=\"_parent\"><img src=\"https://colab.research.google.com/assets/colab-badge.svg\" alt=\"Open In Colab\"/></a>"
      ]
    },
    {
      "cell_type": "code",
      "execution_count": null,
      "metadata": {
        "id": "dR96v0mwN8_f"
      },
      "outputs": [],
      "source": [
        "Given an integer array nums and an integer k, return true if nums has a good subarray or false otherwise.\n",
        "\n",
        "A good subarray is a subarray where:\n",
        "\n",
        "its length is at least two, and\n",
        "the sum of the elements of the subarray is a multiple of k.\n",
        "Note that:\n",
        "\n",
        "A subarray is a contiguous part of the array.\n",
        "An integer x is a multiple of k if there exists an integer n such that x = n * k. 0 is always a multiple of k.\n",
        "\n",
        "\n",
        "Example 1:\n",
        "\n",
        "Input: nums = [23,2,4,6,7], k = 6\n",
        "Output: true\n",
        "Explanation: [2, 4] is a continuous subarray of size 2 whose elements sum up to 6"
      ]
    },
    {
      "cell_type": "code",
      "source": [
        "class Solution:\n",
        "    def checkSubarraySum(self, nums, k) :\n",
        "\n",
        "        rem_map={0:-1}\n",
        "\n",
        "        prefix_sum=0\n",
        "\n",
        "        for i,num in enumerate(nums):\n",
        "\n",
        "            prefix_sum+=num\n",
        "\n",
        "            prefix_sum=prefix_sum%k\n",
        "\n",
        "            if prefix_sum in rem_map:\n",
        "\n",
        "                if i-rem_map[prefix_sum] >1:\n",
        "                    return True\n",
        "\n",
        "            else:\n",
        "                rem_map[prefix_sum]=i\n",
        "\n",
        "        return False\n",
        "\n",
        "s=Solution()\n",
        "\n",
        "nums = [23,2,4,6,7]\n",
        "k = 6\n",
        "\n",
        "print(s.checkSubarraySum(nums,k))"
      ],
      "metadata": {
        "colab": {
          "base_uri": "https://localhost:8080/"
        },
        "id": "2gj10gpjN_A5",
        "outputId": "10950ee5-e0b4-4356-fbc1-70b9c5b32f6c"
      },
      "execution_count": 1,
      "outputs": [
        {
          "output_type": "stream",
          "name": "stdout",
          "text": [
            "True\n"
          ]
        }
      ]
    }
  ]
}