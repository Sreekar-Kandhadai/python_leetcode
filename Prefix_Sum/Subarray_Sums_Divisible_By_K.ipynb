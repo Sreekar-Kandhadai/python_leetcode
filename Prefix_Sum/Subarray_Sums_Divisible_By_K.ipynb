{
  "nbformat": 4,
  "nbformat_minor": 0,
  "metadata": {
    "colab": {
      "provenance": [],
      "authorship_tag": "ABX9TyNjprOd8AzRWcSNzNQHOXbf",
      "include_colab_link": true
    },
    "kernelspec": {
      "name": "python3",
      "display_name": "Python 3"
    },
    "language_info": {
      "name": "python"
    }
  },
  "cells": [
    {
      "cell_type": "markdown",
      "metadata": {
        "id": "view-in-github",
        "colab_type": "text"
      },
      "source": [
        "<a href=\"https://colab.research.google.com/github/Sreekar-Kandhadai/python_leetcode/blob/main/Prefix_Sum/Subarray_Sums_Divisible_By_K.ipynb\" target=\"_parent\"><img src=\"https://colab.research.google.com/assets/colab-badge.svg\" alt=\"Open In Colab\"/></a>"
      ]
    },
    {
      "cell_type": "code",
      "execution_count": null,
      "metadata": {
        "id": "v4FKNLwsppOg"
      },
      "outputs": [],
      "source": [
        "Given an integer array nums and an integer k, return the number of non-empty subarrays that have a sum divisible by k.\n",
        "\n",
        "A subarray is a contiguous part of an array.\n",
        "\n",
        "\n",
        "Example 1:\n",
        "\n",
        "Input: nums = [4,5,0,-2,-3,1], k = 5\n",
        "Output: 7\n",
        "Explanation: There are 7 subarrays with a sum divisible by k = 5:\n",
        "[4, 5, 0, -2, -3, 1], [5], [5, 0], [5, 0, -2, -3], [0], [0, -2, -3], [-2, -3]\n",
        "\n",
        "Example 2:\n",
        "\n",
        "Input: nums = [5], k = 9\n",
        "Output: 0"
      ]
    },
    {
      "cell_type": "code",
      "source": [
        "class Solution:\n",
        "    def subarraysDivByK(self, nums, k) -> int:\n",
        "\n",
        "        prefix_sum=0\n",
        "        map={0:1}\n",
        "        cnt=0\n",
        "\n",
        "        for num in nums:\n",
        "\n",
        "            prefix_sum+=num\n",
        "\n",
        "            prefix_sum=prefix_sum%k\n",
        "\n",
        "            if prefix_sum in map:\n",
        "                cnt+=map[prefix_sum]\n",
        "                map[prefix_sum]+=1\n",
        "\n",
        "            else:\n",
        "                map[prefix_sum]=1\n",
        "\n",
        "        return cnt\n",
        "\n",
        "\n",
        "s=Solution()\n",
        "nums = [4,5,0,-2,-3,1]\n",
        "k = 5\n",
        "\n",
        "print(s.subarraysDivByK(nums,k))"
      ],
      "metadata": {
        "colab": {
          "base_uri": "https://localhost:8080/"
        },
        "id": "14fHLrg8prZW",
        "outputId": "5c342705-ec3e-4482-d5be-47a65bc333cc"
      },
      "execution_count": 1,
      "outputs": [
        {
          "output_type": "stream",
          "name": "stdout",
          "text": [
            "7\n"
          ]
        }
      ]
    }
  ]
}