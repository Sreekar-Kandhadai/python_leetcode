{
  "nbformat": 4,
  "nbformat_minor": 0,
  "metadata": {
    "colab": {
      "provenance": [],
      "authorship_tag": "ABX9TyNLqM+pTvzSsdT+wvSDACI9",
      "include_colab_link": true
    },
    "kernelspec": {
      "name": "python3",
      "display_name": "Python 3"
    },
    "language_info": {
      "name": "python"
    }
  },
  "cells": [
    {
      "cell_type": "markdown",
      "metadata": {
        "id": "view-in-github",
        "colab_type": "text"
      },
      "source": [
        "<a href=\"https://colab.research.google.com/github/Sreekar-Kandhadai/python_leetcode/blob/main/Heaps_Medium/Merge_K_Sorted_Arrays.ipynb\" target=\"_parent\"><img src=\"https://colab.research.google.com/assets/colab-badge.svg\" alt=\"Open In Colab\"/></a>"
      ]
    },
    {
      "cell_type": "code",
      "execution_count": null,
      "metadata": {
        "id": "hbxIHStEuHoc"
      },
      "outputs": [],
      "source": [
        "Merge k Sorted Arrays\n"
      ]
    },
    {
      "cell_type": "code",
      "source": [
        "import heapq\n",
        "class Solution:\n",
        "  def mergeKArrays(self, arr, K):\n",
        "    heap=[]\n",
        "\n",
        "    for i in range(len(arr)):\n",
        "      heapq.heappush(heap,(arr[i][0],i,0))\n",
        "\n",
        "    result=[]\n",
        "    while heap:\n",
        "      val,row,col=heapq.heappop(heap)\n",
        "\n",
        "      result.append(val)\n",
        "\n",
        "      if col+1 < len(arr[row]):\n",
        "        heapq.heappush(heap,(arr[row][col+1] , row,col+1 ))\n",
        "\n",
        "    return result\n",
        "\n",
        "\n",
        "\n",
        "s=Solution()\n",
        "k = 3\n",
        "\n",
        "arr = [[1,2,3],[4,5,6],[7,8,9]]\n",
        "\n",
        "print(s.mergeKArrays(arr,k))\n",
        "\n",
        "\n",
        "#  Time Complexity -- O(k² × log k)\n",
        "\n",
        "# Space Complexity -- O(k²) (Output) + O(k) (Heap)"
      ],
      "metadata": {
        "colab": {
          "base_uri": "https://localhost:8080/"
        },
        "id": "4Knq-9rhuKYI",
        "outputId": "b809f1e1-2128-4dca-f291-61b3f3701920"
      },
      "execution_count": 2,
      "outputs": [
        {
          "output_type": "stream",
          "name": "stdout",
          "text": [
            "[1, 2, 3, 4, 5, 6, 7, 8, 9]\n"
          ]
        }
      ]
    }
  ]
}