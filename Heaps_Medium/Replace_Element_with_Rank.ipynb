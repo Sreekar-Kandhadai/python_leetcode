{
  "nbformat": 4,
  "nbformat_minor": 0,
  "metadata": {
    "colab": {
      "provenance": [],
      "authorship_tag": "ABX9TyMPjXIbohApF6xJilTPnDWc",
      "include_colab_link": true
    },
    "kernelspec": {
      "name": "python3",
      "display_name": "Python 3"
    },
    "language_info": {
      "name": "python"
    }
  },
  "cells": [
    {
      "cell_type": "markdown",
      "metadata": {
        "id": "view-in-github",
        "colab_type": "text"
      },
      "source": [
        "<a href=\"https://colab.research.google.com/github/Sreekar-Kandhadai/python_leetcode/blob/main/Heaps_Medium/Replace_Element_with_Rank.ipynb\" target=\"_parent\"><img src=\"https://colab.research.google.com/assets/colab-badge.svg\" alt=\"Open In Colab\"/></a>"
      ]
    },
    {
      "cell_type": "code",
      "execution_count": null,
      "metadata": {
        "id": "y8O79ExtVAMm"
      },
      "outputs": [],
      "source": [
        "Replace each array element by its corresponding rank"
      ]
    },
    {
      "cell_type": "code",
      "source": [
        "from heapq import heappush,heappop,heapify\n",
        "class Solution:\n",
        "\n",
        "  def replaceRank(self,N,arr):\n",
        "\n",
        "    min_heap=[(val,i) for i, val in enumerate(arr)]\n",
        "\n",
        "    heapify(min_heap)\n",
        "\n",
        "    map={}\n",
        "    result=[0]*len(arr)\n",
        "    rank=1\n",
        "\n",
        "    while min_heap:\n",
        "      val,i=heappop(min_heap)\n",
        "\n",
        "      if val not in map:\n",
        "        map[val]=rank\n",
        "        rank+=1\n",
        "\n",
        "      result[i]=map[val]\n",
        "\n",
        "    return result\n",
        "\n",
        "\n",
        "\n",
        "arr=[20, 15, 26, 2, 98, 6]\n",
        "N=6\n",
        "\n",
        "s=Solution()\n",
        "\n",
        "print(s.replaceRank(N,arr))\n"
      ],
      "metadata": {
        "colab": {
          "base_uri": "https://localhost:8080/"
        },
        "id": "Z7AGE33LVA8c",
        "outputId": "55c51fe2-b36d-471c-926e-3e11d4b5f076"
      },
      "execution_count": 2,
      "outputs": [
        {
          "output_type": "stream",
          "name": "stdout",
          "text": [
            "[4, 3, 5, 1, 6, 2]\n"
          ]
        }
      ]
    }
  ]
}