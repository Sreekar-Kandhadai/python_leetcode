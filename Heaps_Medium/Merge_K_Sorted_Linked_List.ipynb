{
  "nbformat": 4,
  "nbformat_minor": 0,
  "metadata": {
    "colab": {
      "provenance": [],
      "authorship_tag": "ABX9TyNumTu4NQRVRL9UQ0USMeua",
      "include_colab_link": true
    },
    "kernelspec": {
      "name": "python3",
      "display_name": "Python 3"
    },
    "language_info": {
      "name": "python"
    }
  },
  "cells": [
    {
      "cell_type": "markdown",
      "metadata": {
        "id": "view-in-github",
        "colab_type": "text"
      },
      "source": [
        "<a href=\"https://colab.research.google.com/github/Sreekar-Kandhadai/python_leetcode/blob/main/Heaps_Medium/Merge_K_Sorted_Linked_List.ipynb\" target=\"_parent\"><img src=\"https://colab.research.google.com/assets/colab-badge.svg\" alt=\"Open In Colab\"/></a>"
      ]
    },
    {
      "cell_type": "code",
      "execution_count": null,
      "metadata": {
        "id": "erhjCFVSk9Vm"
      },
      "outputs": [],
      "source": [
        "Merge K Sorted Linked Lists"
      ]
    },
    {
      "cell_type": "code",
      "source": [
        "from heapq import heappop,heappush\n",
        "\n",
        "class ListNode:\n",
        "\n",
        "  def __init__(self,value=0,next=None):\n",
        "    self.value=value\n",
        "    self.next=next\n",
        "\n",
        "class Solution:\n",
        "\n",
        "  def mergeKLists(self,lists):\n",
        "\n",
        "    min_heap=[]\n",
        "\n",
        "    for i,l in enumerate(lists):\n",
        "      if l:\n",
        "        heappush(min_heap,(l.value,i,l))\n",
        "\n",
        "    dummy=ListNode()\n",
        "    curr=dummy\n",
        "\n",
        "    while min_heap:\n",
        "      val,i,node=heappop(min_heap)\n",
        "      curr.next=node\n",
        "      curr=curr.next\n",
        "      if node.next:\n",
        "        heappush(min_heap,(node.next.value,i,node.next))\n",
        "\n",
        "    return dummy.next\n",
        "\n",
        "  def arrayToLinkedList(self,arr):\n",
        "    while not arr:\n",
        "      return None\n",
        "\n",
        "    head=ListNode(arr[0])\n",
        "    current=head\n",
        "\n",
        "    for num in arr[1:]:\n",
        "      current.next=ListNode(num)\n",
        "      current=current.next\n",
        "\n",
        "    return head\n",
        "\n",
        "  def printLinkedList(self,head):\n",
        "\n",
        "    while head:\n",
        "      print(head.value,end=\"->\")\n",
        "      head=head.next\n",
        "\n",
        "    print(\"None\")\n",
        "\n",
        "s=Solution()\n",
        "\n",
        "lists=[s.arrayToLinkedList([1,4,5]),s.arrayToLinkedList([1,3,4]),s.arrayToLinkedList([2,6])]\n",
        "\n",
        "\n",
        "merged_list=s.mergeKLists(lists)\n",
        "\n",
        "s.printLinkedList(merged_list)\n",
        "\n",
        "\n",
        "\n"
      ],
      "metadata": {
        "colab": {
          "base_uri": "https://localhost:8080/"
        },
        "id": "tYPFAGkilowf",
        "outputId": "e3571c65-9ebd-4243-9692-dc07d7c5f51f"
      },
      "execution_count": 7,
      "outputs": [
        {
          "output_type": "stream",
          "name": "stdout",
          "text": [
            "1->1->2->3->4->4->5->6->None\n"
          ]
        }
      ]
    }
  ]
}