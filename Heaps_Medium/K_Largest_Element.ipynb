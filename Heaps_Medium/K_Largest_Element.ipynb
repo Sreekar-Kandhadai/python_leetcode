{
  "nbformat": 4,
  "nbformat_minor": 0,
  "metadata": {
    "colab": {
      "provenance": [],
      "authorship_tag": "ABX9TyOfHDgO3+9TgBtN93GbmHlc",
      "include_colab_link": true
    },
    "kernelspec": {
      "name": "python3",
      "display_name": "Python 3"
    },
    "language_info": {
      "name": "python"
    }
  },
  "cells": [
    {
      "cell_type": "markdown",
      "metadata": {
        "id": "view-in-github",
        "colab_type": "text"
      },
      "source": [
        "<a href=\"https://colab.research.google.com/github/Sreekar-Kandhadai/python_leetcode/blob/main/Heaps_Medium/K_Largest_Element.ipynb\" target=\"_parent\"><img src=\"https://colab.research.google.com/assets/colab-badge.svg\" alt=\"Open In Colab\"/></a>"
      ]
    },
    {
      "cell_type": "code",
      "execution_count": null,
      "metadata": {
        "id": "wq6KiiX_zS2E"
      },
      "outputs": [],
      "source": [
        "Kth Largest Element"
      ]
    },
    {
      "cell_type": "code",
      "source": [
        "import heapq\n",
        "def K_Largest(arr,k):\n",
        "\n",
        "  min_heap=[]\n",
        "\n",
        "  for num in arr:\n",
        "\n",
        "    heapq.heappush(min_heap,num)\n",
        "\n",
        "    if len(min_heap)>k :\n",
        "      heapq.heappop(min_heap)\n",
        "\n",
        "  return min_heap[0]\n",
        "\n",
        "arr=[1,2,3,4,5]\n",
        "\n",
        "k=2\n",
        "\n",
        "print(f\"The {k} largest element is {K_Largest(arr,k)}\")"
      ],
      "metadata": {
        "colab": {
          "base_uri": "https://localhost:8080/"
        },
        "id": "LAZxQ_GOzVdm",
        "outputId": "5040ca85-736d-4521-b7f2-f13f6d306d58"
      },
      "execution_count": 2,
      "outputs": [
        {
          "output_type": "stream",
          "name": "stdout",
          "text": [
            "The 2 largest element is 4\n"
          ]
        }
      ]
    }
  ]
}