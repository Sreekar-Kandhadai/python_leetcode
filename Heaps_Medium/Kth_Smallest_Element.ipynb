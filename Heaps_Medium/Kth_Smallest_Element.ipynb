{
  "nbformat": 4,
  "nbformat_minor": 0,
  "metadata": {
    "colab": {
      "provenance": [],
      "authorship_tag": "ABX9TyOe4lzzcr3zmualKuTtZnIP",
      "include_colab_link": true
    },
    "kernelspec": {
      "name": "python3",
      "display_name": "Python 3"
    },
    "language_info": {
      "name": "python"
    }
  },
  "cells": [
    {
      "cell_type": "markdown",
      "metadata": {
        "id": "view-in-github",
        "colab_type": "text"
      },
      "source": [
        "<a href=\"https://colab.research.google.com/github/Sreekar-Kandhadai/python_leetcode/blob/main/Heaps_Medium/Kth_Smallest_Element.ipynb\" target=\"_parent\"><img src=\"https://colab.research.google.com/assets/colab-badge.svg\" alt=\"Open In Colab\"/></a>"
      ]
    },
    {
      "cell_type": "code",
      "execution_count": null,
      "metadata": {
        "id": "tU_CRJIKv64e"
      },
      "outputs": [],
      "source": [
        "Kth Smallest Element"
      ]
    },
    {
      "cell_type": "code",
      "source": [
        "import heapq\n",
        "\n",
        "def K_Smallest(arr,k):\n",
        "\n",
        "  heapq.heapify(arr)\n",
        "\n",
        "  for _ in range(k-1):\n",
        "\n",
        "    heapq.heappop(arr)\n",
        "\n",
        "  return heapq.heappop(arr)\n",
        "\n",
        "\n",
        "\n",
        "arr=[1,2,3,10,15]\n",
        "\n",
        "k=4\n",
        "\n",
        "print(f\"{k} smallest element is {K_Smallest(arr,k)}\")\n"
      ],
      "metadata": {
        "colab": {
          "base_uri": "https://localhost:8080/"
        },
        "id": "gvBbhHfjwX75",
        "outputId": "cd090c9c-a104-4cca-9e99-8d89e3e52f1f"
      },
      "execution_count": 1,
      "outputs": [
        {
          "output_type": "stream",
          "name": "stdout",
          "text": [
            "4 smallest element is 10\n"
          ]
        }
      ]
    }
  ]
}