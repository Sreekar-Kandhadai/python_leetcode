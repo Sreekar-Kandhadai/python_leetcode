{
  "nbformat": 4,
  "nbformat_minor": 0,
  "metadata": {
    "colab": {
      "provenance": [],
      "authorship_tag": "ABX9TyPyjtmo+mmy9c+usmpwM7xb",
      "include_colab_link": true
    },
    "kernelspec": {
      "name": "python3",
      "display_name": "Python 3"
    },
    "language_info": {
      "name": "python"
    }
  },
  "cells": [
    {
      "cell_type": "markdown",
      "metadata": {
        "id": "view-in-github",
        "colab_type": "text"
      },
      "source": [
        "<a href=\"https://colab.research.google.com/github/Sreekar-Kandhadai/python_leetcode/blob/main/Binary_Search_Medium/Median_of_two_sorted_arrays.ipynb\" target=\"_parent\"><img src=\"https://colab.research.google.com/assets/colab-badge.svg\" alt=\"Open In Colab\"/></a>"
      ]
    },
    {
      "cell_type": "code",
      "execution_count": null,
      "metadata": {
        "id": "nfAd1m5Oinkp"
      },
      "outputs": [],
      "source": [
        "Median of two sorted arrays"
      ]
    },
    {
      "cell_type": "code",
      "source": [
        "class Solution:\n",
        "    def findMedianSortedArrays(self, nums1, nums2) -> float:\n",
        "\n",
        "        if len(nums1) > len(nums2):\n",
        "            nums1,nums2=nums2,nums1\n",
        "\n",
        "        n1=len(nums1)\n",
        "        n2=len(nums2)\n",
        "        n=n1+n2\n",
        "        left=(n1+n2+1)//2\n",
        "\n",
        "        low,high=0,n1\n",
        "\n",
        "        while low <= high:\n",
        "\n",
        "            l1,l2,r1,r2=float('-inf'),float('-inf'),float('inf'),float('inf')\n",
        "\n",
        "            mid1=(low+high)//2\n",
        "            mid2=left-mid1\n",
        "\n",
        "            if mid1-1>=0:\n",
        "                l1=nums1[mid1-1]\n",
        "            if mid2-1>=0:\n",
        "                l2=nums2[mid2-1]\n",
        "            if mid1 < n1:\n",
        "                r1=nums1[mid1]\n",
        "            if mid2 < n2:\n",
        "                r2=nums2[mid2]\n",
        "\n",
        "            if l1<=r2 and l2<=r1:\n",
        "                if n%2==1:\n",
        "                    return max(l1,l2)\n",
        "                else:\n",
        "                    return (float(max(l1,l2))+float(min(r1,r2)))/2.0\n",
        "            if l1 > r2:\n",
        "                high=mid1-1\n",
        "            else:\n",
        "                low=mid1+1\n",
        "\n",
        "s=Solution()\n",
        "\n",
        "nums1 = [1,3]\n",
        "nums2 = [2]\n",
        "print(s.findMedianSortedArrays(nums1,nums2))\n",
        "\n",
        "\n",
        "\n",
        "\n",
        "\n",
        "\n",
        "\n",
        "\n",
        "\n",
        ""
      ],
      "metadata": {
        "colab": {
          "base_uri": "https://localhost:8080/"
        },
        "id": "Ffe2Asleit1C",
        "outputId": "99d4a2fb-578d-477d-93ec-10f61b44ba22"
      },
      "execution_count": 1,
      "outputs": [
        {
          "output_type": "stream",
          "name": "stdout",
          "text": [
            "2\n"
          ]
        }
      ]
    }
  ]
}