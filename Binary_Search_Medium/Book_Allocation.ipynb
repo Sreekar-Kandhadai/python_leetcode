{
  "nbformat": 4,
  "nbformat_minor": 0,
  "metadata": {
    "colab": {
      "provenance": [],
      "authorship_tag": "ABX9TyPDLixTVr8Ta3u5Ztk3c3Gq",
      "include_colab_link": true
    },
    "kernelspec": {
      "name": "python3",
      "display_name": "Python 3"
    },
    "language_info": {
      "name": "python"
    }
  },
  "cells": [
    {
      "cell_type": "markdown",
      "metadata": {
        "id": "view-in-github",
        "colab_type": "text"
      },
      "source": [
        "<a href=\"https://colab.research.google.com/github/Sreekar-Kandhadai/python_leetcode/blob/main/Binary_Search_Medium/Book_Allocation.ipynb\" target=\"_parent\"><img src=\"https://colab.research.google.com/assets/colab-badge.svg\" alt=\"Open In Colab\"/></a>"
      ]
    },
    {
      "cell_type": "code",
      "execution_count": null,
      "metadata": {
        "id": "vqUptLVj2Bbb"
      },
      "outputs": [],
      "source": [
        "Given an array ‘arr’ of integer numbers, ‘arr[i]’ represents the number of pages in the ‘i-th’ book.\n",
        "\n",
        "There are ‘m’ number of students, and the task is to allocate all the books to the students.\n",
        "\n",
        "Allocate books in such a way that:\n",
        "\n",
        "1. Each student gets at least one book.\n",
        "2. Each book should be allocated to only one student.\n",
        "3. Book allocation should be in a contiguous manner.\n",
        "\n",
        "You have to allocate the book to ‘m’ students such that the maximum number of pages assigned to a student is minimum.\n",
        "\n",
        "If the allocation of books is not possible, return -1."
      ]
    },
    {
      "cell_type": "code",
      "source": [
        "def findPages(arr: [int], n: int, m: int) -> int:\n",
        "\n",
        "    def Possible(arr,m,maxPages):\n",
        "        students=1\n",
        "        pagesallocated=0\n",
        "\n",
        "        for pages in arr:\n",
        "            if pages > maxPages:\n",
        "                return False\n",
        "            if pagesallocated+pages <=maxPages:\n",
        "                pagesallocated+=pages\n",
        "\n",
        "            else:\n",
        "                students+=1\n",
        "                pagesallocated=pages\n",
        "\n",
        "                if students >m:\n",
        "                    return False\n",
        "        return True\n",
        "\n",
        "\n",
        "\n",
        "\n",
        "    if len(arr) < m:\n",
        "        return -1\n",
        "\n",
        "    low,high=max(arr),sum(arr)\n",
        "\n",
        "    while low<=high:\n",
        "\n",
        "        mid=(low+high)//2\n",
        "\n",
        "        if Possible(arr,m,mid):\n",
        "            result=mid\n",
        "            high=mid-1\n",
        "\n",
        "        else:\n",
        "            low=mid+1\n",
        "\n",
        "    return result\n",
        "\n",
        "n= 4\n",
        "m= 2\n",
        "arr = [12, 34, 67, 90]\n",
        "\n",
        "result=findPages(arr,n,m)\n",
        "\n",
        "print(result)\n",
        "\n",
        "\n"
      ],
      "metadata": {
        "colab": {
          "base_uri": "https://localhost:8080/"
        },
        "id": "LWGFZ3iT2CL4",
        "outputId": "8929b319-cc71-4a84-cdee-a5c75908fc23"
      },
      "execution_count": 1,
      "outputs": [
        {
          "output_type": "stream",
          "name": "stdout",
          "text": [
            "113\n"
          ]
        }
      ]
    }
  ]
}