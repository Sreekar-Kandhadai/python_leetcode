{
  "nbformat": 4,
  "nbformat_minor": 0,
  "metadata": {
    "colab": {
      "provenance": [],
      "authorship_tag": "ABX9TyOIdh/0gHyq6y3V6sINGxBx",
      "include_colab_link": true
    },
    "kernelspec": {
      "name": "python3",
      "display_name": "Python 3"
    },
    "language_info": {
      "name": "python"
    }
  },
  "cells": [
    {
      "cell_type": "markdown",
      "metadata": {
        "id": "view-in-github",
        "colab_type": "text"
      },
      "source": [
        "<a href=\"https://colab.research.google.com/github/Sreekar-Kandhadai/python_leetcode/blob/main/Binary_Search_Medium/AggressiveCows.ipynb\" target=\"_parent\"><img src=\"https://colab.research.google.com/assets/colab-badge.svg\" alt=\"Open In Colab\"/></a>"
      ]
    },
    {
      "cell_type": "code",
      "execution_count": null,
      "metadata": {
        "id": "dOj84paK8JP6"
      },
      "outputs": [],
      "source": [
        "You are given an array 'arr' consisting of 'n' integers which denote the position of a stall.\n",
        "\n",
        "You are also given an integer 'k' which denotes the number of aggressive cows.\n",
        "\n",
        "You are given the task of assigning stalls to 'k' cows such that the minimum distance between any two of them is the maximum possible.\n",
        "\n",
        "Print the maximum possible minimum distance."
      ]
    },
    {
      "cell_type": "code",
      "source": [
        "def canWePlace(stalls, dist, cows):\n",
        "    n = len(stalls)  # size of array\n",
        "    cntCows = 1  # no. of cows placed\n",
        "    last = stalls[0]  # position of last placed cow\n",
        "    for i in range(1, n):\n",
        "        if stalls[i] - last >= dist:\n",
        "            cntCows += 1  # place next cow\n",
        "            last = stalls[i]  # update the last location\n",
        "        if cntCows >= cows:\n",
        "            return True\n",
        "    return False\n",
        "\n",
        "def aggressiveCows(stalls, k):\n",
        "    n = len(stalls)  # size of array\n",
        "    stalls.sort()  # sort the stalls\n",
        "\n",
        "    low = 1\n",
        "    high = stalls[n - 1] - stalls[0]\n",
        "    # apply binary search\n",
        "    while low <= high:\n",
        "        mid = (low + high) // 2\n",
        "        if canWePlace(stalls, mid, k):\n",
        "            low = mid + 1\n",
        "        else:\n",
        "            high = mid - 1\n",
        "    return high\n",
        "\n",
        "stalls = [0, 3, 4, 7, 10, 9]\n",
        "k = 4\n",
        "ans = aggressiveCows(stalls, k)\n",
        "print(\"The maximum possible minimum distance is:\", ans)"
      ],
      "metadata": {
        "colab": {
          "base_uri": "https://localhost:8080/"
        },
        "id": "G86N5gzA8Lcv",
        "outputId": "52f0c121-c7de-41df-b8fb-c6388b4d1e05"
      },
      "execution_count": 1,
      "outputs": [
        {
          "output_type": "stream",
          "name": "stdout",
          "text": [
            "The maximum possible minimum distance is: 3\n"
          ]
        }
      ]
    }
  ]
}