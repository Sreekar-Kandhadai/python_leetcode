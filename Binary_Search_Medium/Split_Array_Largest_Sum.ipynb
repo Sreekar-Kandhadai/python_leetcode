{
  "nbformat": 4,
  "nbformat_minor": 0,
  "metadata": {
    "colab": {
      "provenance": [],
      "authorship_tag": "ABX9TyNKBPnHQOiZinuy7QUQNSG/",
      "include_colab_link": true
    },
    "kernelspec": {
      "name": "python3",
      "display_name": "Python 3"
    },
    "language_info": {
      "name": "python"
    }
  },
  "cells": [
    {
      "cell_type": "markdown",
      "metadata": {
        "id": "view-in-github",
        "colab_type": "text"
      },
      "source": [
        "<a href=\"https://colab.research.google.com/github/Sreekar-Kandhadai/python_leetcode/blob/main/Binary_Search_Medium/Split_Array_Largest_Sum.ipynb\" target=\"_parent\"><img src=\"https://colab.research.google.com/assets/colab-badge.svg\" alt=\"Open In Colab\"/></a>"
      ]
    },
    {
      "cell_type": "code",
      "execution_count": null,
      "metadata": {
        "id": "E48dteDgwxdr"
      },
      "outputs": [],
      "source": [
        "Given an integer array nums and an integer k, split nums into k non-empty subarrays such that the largest sum of any subarray is minimized.\n",
        "\n",
        "Return the minimized largest sum of the split.\n",
        "\n",
        "A subarray is a contiguous part of the array.\n"
      ]
    },
    {
      "cell_type": "code",
      "source": [
        "class Solution:\n",
        "    def splitArray(self, nums: List[int], k: int) -> int:\n",
        "\n",
        "        def possible(arr,partition,highest):\n",
        "\n",
        "            subarray=1\n",
        "            allocated=0\n",
        "\n",
        "            for number in arr:\n",
        "                if number > highest:\n",
        "                    return False\n",
        "                if allocated+number <=highest:\n",
        "                    allocated+=number\n",
        "\n",
        "                else:\n",
        "                    subarray+=1\n",
        "                    allocated=number\n",
        "\n",
        "                    if subarray > partition:\n",
        "                        return False\n",
        "            return True\n",
        "\n",
        "\n",
        "\n",
        "\n",
        "        low=max(nums)\n",
        "        high=sum(nums)\n",
        "\n",
        "        while low<=high:\n",
        "\n",
        "            mid=(low+high)//2\n",
        "\n",
        "            if possible(nums,k,mid):\n",
        "                result=mid\n",
        "                high=mid-1\n",
        "\n",
        "            else:\n",
        "                low=mid+1\n",
        "\n",
        "        return result\n",
        "\n"
      ],
      "metadata": {
        "id": "aat1YTB6wzYM"
      },
      "execution_count": null,
      "outputs": []
    }
  ]
}