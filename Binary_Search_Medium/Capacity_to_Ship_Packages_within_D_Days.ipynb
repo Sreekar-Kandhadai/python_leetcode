{
  "nbformat": 4,
  "nbformat_minor": 0,
  "metadata": {
    "colab": {
      "provenance": [],
      "authorship_tag": "ABX9TyNUJyD9gcpA9ld66HmyP6dk",
      "include_colab_link": true
    },
    "kernelspec": {
      "name": "python3",
      "display_name": "Python 3"
    },
    "language_info": {
      "name": "python"
    }
  },
  "cells": [
    {
      "cell_type": "markdown",
      "metadata": {
        "id": "view-in-github",
        "colab_type": "text"
      },
      "source": [
        "<a href=\"https://colab.research.google.com/github/Sreekar-Kandhadai/python_leetcode/blob/main/Binary_Search_Medium/Capacity_to_Ship_Packages_within_D_Days.ipynb\" target=\"_parent\"><img src=\"https://colab.research.google.com/assets/colab-badge.svg\" alt=\"Open In Colab\"/></a>"
      ]
    },
    {
      "cell_type": "code",
      "execution_count": null,
      "metadata": {
        "id": "-sa357a7FVFi"
      },
      "outputs": [],
      "source": [
        "Capacity to Ship Packages within D Days"
      ]
    },
    {
      "cell_type": "code",
      "source": [
        "class Solution:\n",
        "    def shipWithinDays(self, weights, days):\n",
        "\n",
        "        def canShip(capacity):\n",
        "            D=1\n",
        "            current_weight=0\n",
        "\n",
        "            for weight in weights:\n",
        "                if current_weight+weight > capacity:\n",
        "                    D+=1\n",
        "                    current_weight=0\n",
        "\n",
        "                current_weight+=weight\n",
        "\n",
        "            return D<=days\n",
        "\n",
        "        left,right=max(weights),sum(weights)\n",
        "\n",
        "        while left < right:\n",
        "            mid=(left+right)//2\n",
        "\n",
        "            if canShip(mid):\n",
        "                right=mid\n",
        "            else:\n",
        "                left=mid+1\n",
        "\n",
        "        return left\n",
        "\n",
        "\n",
        "s=Solution()\n",
        "weights = [1,2,3,4,5,6,7,8,9,10]\n",
        "\n",
        "days = 5\n",
        "\n",
        "print(s.shipWithinDays(weights,days))\n",
        ""
      ],
      "metadata": {
        "colab": {
          "base_uri": "https://localhost:8080/"
        },
        "id": "b9xPO8GSHb1t",
        "outputId": "f0b4ec6f-12ca-4a2f-e062-8dc859a622ad"
      },
      "execution_count": 3,
      "outputs": [
        {
          "output_type": "stream",
          "name": "stdout",
          "text": [
            "15\n"
          ]
        }
      ]
    }
  ]
}