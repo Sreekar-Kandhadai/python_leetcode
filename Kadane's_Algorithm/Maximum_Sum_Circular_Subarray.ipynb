{
  "nbformat": 4,
  "nbformat_minor": 0,
  "metadata": {
    "colab": {
      "provenance": [],
      "authorship_tag": "ABX9TyOeEp/r4ZTG9SI9OQriBMFJ",
      "include_colab_link": true
    },
    "kernelspec": {
      "name": "python3",
      "display_name": "Python 3"
    },
    "language_info": {
      "name": "python"
    }
  },
  "cells": [
    {
      "cell_type": "markdown",
      "metadata": {
        "id": "view-in-github",
        "colab_type": "text"
      },
      "source": [
        "<a href=\"https://colab.research.google.com/github/Sreekar-Kandhadai/python_leetcode/blob/main/Kadane's_Algorithm/Maximum_Sum_Circular_Subarray.ipynb\" target=\"_parent\"><img src=\"https://colab.research.google.com/assets/colab-badge.svg\" alt=\"Open In Colab\"/></a>"
      ]
    },
    {
      "cell_type": "code",
      "execution_count": null,
      "metadata": {
        "id": "htJuNG09FH40"
      },
      "outputs": [],
      "source": [
        "Given a circular integer array nums of length n, return the maximum possible sum of a non-empty subarray of nums.\n",
        "\n",
        "A circular array means the end of the array connects to the beginning of the array. Formally, the next element of nums[i] is nums[(i + 1) % n]\n",
        "and the previous element of nums[i] is nums[(i - 1 + n) % n].\n",
        "\n",
        "A subarray may only include each element of the fixed buffer nums at most once.\n",
        "Formally, for a subarray nums[i], nums[i + 1], ..., nums[j], there does not exist i <= k1, k2 <= j with k1 % n == k2 % n"
      ]
    },
    {
      "cell_type": "code",
      "source": [
        "class Solution:\n",
        "    def maxSubarraySumCircular(self, nums) -> int:\n",
        "\n",
        "        def kadane(nums):\n",
        "\n",
        "            sum=0\n",
        "            highest=float('-inf')\n",
        "\n",
        "            for num in nums:\n",
        "\n",
        "                sum+=num\n",
        "\n",
        "                if sum > highest:\n",
        "                    highest=sum\n",
        "\n",
        "                if sum < 0:\n",
        "                    sum=0\n",
        "\n",
        "            return highest\n",
        "\n",
        "        max_kadane=kadane(nums)\n",
        "        total=sum(nums)\n",
        "        min_kadane=total-(-(kadane( -num  for num in nums )))\n",
        "\n",
        "        if min_kadane==0:\n",
        "            return max_kadane\n",
        "\n",
        "        return max(max_kadane,min_kadane)\n",
        "\n",
        "s=Solution()\n",
        "\n",
        "nums = [1,-2,3,-2]\n",
        "\n",
        "print(s.maxSubarraySumCircular(nums))"
      ],
      "metadata": {
        "colab": {
          "base_uri": "https://localhost:8080/"
        },
        "id": "Z7GIcmi5FIpe",
        "outputId": "b323ee21-58f7-4d65-87dc-514d21f297c5"
      },
      "execution_count": 2,
      "outputs": [
        {
          "output_type": "stream",
          "name": "stdout",
          "text": [
            "3\n"
          ]
        }
      ]
    }
  ]
}