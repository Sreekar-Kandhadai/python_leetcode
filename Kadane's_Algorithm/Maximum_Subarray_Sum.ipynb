{
  "nbformat": 4,
  "nbformat_minor": 0,
  "metadata": {
    "colab": {
      "provenance": [],
      "authorship_tag": "ABX9TyMmHCM8Gb5N16CGEf/WXjWo",
      "include_colab_link": true
    },
    "kernelspec": {
      "name": "python3",
      "display_name": "Python 3"
    },
    "language_info": {
      "name": "python"
    }
  },
  "cells": [
    {
      "cell_type": "markdown",
      "metadata": {
        "id": "view-in-github",
        "colab_type": "text"
      },
      "source": [
        "<a href=\"https://colab.research.google.com/github/Sreekar-Kandhadai/python_leetcode/blob/main/Kadane's_Algorithm/Maximum_Subarray_Sum.ipynb\" target=\"_parent\"><img src=\"https://colab.research.google.com/assets/colab-badge.svg\" alt=\"Open In Colab\"/></a>"
      ]
    },
    {
      "cell_type": "code",
      "execution_count": null,
      "metadata": {
        "id": "SvG8JshZt4VT"
      },
      "outputs": [],
      "source": [
        "Given an integer array nums, find the subarray with the largest sum, and return its sum.\n",
        "\n",
        "\n",
        "Example 1:\n",
        "\n",
        "Input: nums = [-2,1,-3,4,-1,2,1,-5,4]\n",
        "Output: 6\n",
        "Explanation: The subarray [4,-1,2,1] has the largest sum 6.\n",
        "\n",
        "Example 2:\n",
        "\n",
        "Input: nums = [1]\n",
        "Output: 1\n",
        "Explanation: The subarray [1] has the largest sum 1."
      ]
    },
    {
      "cell_type": "code",
      "source": [
        "class Solution:\n",
        "    def maxSubArray(self, nums) -> int:\n",
        "\n",
        "        highest=float('-inf')\n",
        "        sum=0\n",
        "\n",
        "        for num in nums:\n",
        "\n",
        "            sum+=num\n",
        "\n",
        "            highest=max(highest,sum)\n",
        "\n",
        "            if sum < 0:\n",
        "                sum=0\n",
        "\n",
        "        return highest\n",
        "\n",
        "s=Solution()\n",
        "\n",
        "nums=[-1,-3]\n",
        "\n",
        "print(s.maxSubArray(nums))"
      ],
      "metadata": {
        "colab": {
          "base_uri": "https://localhost:8080/"
        },
        "id": "tPC_xA32t7VY",
        "outputId": "0dc870fa-7cea-4bb2-f427-94be2eb1cf6c"
      },
      "execution_count": 2,
      "outputs": [
        {
          "output_type": "stream",
          "name": "stdout",
          "text": [
            "0\n"
          ]
        }
      ]
    }
  ]
}